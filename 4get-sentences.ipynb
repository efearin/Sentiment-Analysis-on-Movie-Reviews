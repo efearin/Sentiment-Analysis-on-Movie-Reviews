{
 "cells": [
  {
   "cell_type": "markdown",
   "metadata": {},
   "source": [
    "PURPOSE OF CODE\n",
    "\n",
    "From train dataset create a new one which contains only full sentences not their phrases to prevent over-fit on further word2vec train using dataset's sentenceId attributes."
   ]
  },
  {
   "cell_type": "markdown",
   "metadata": {},
   "source": [
    "PROCESS NOTES\n",
    "\n",
    "WILL BE DONE\n",
    "\n",
    "DONE\n",
    "- longest phrases of same sentenceId collections of dataset is taken for new dataset \"train-w2v.csv\""
   ]
  },
  {
   "cell_type": "markdown",
   "metadata": {},
   "source": [
    "Get only full sentences to feed word2vec. Only full sentences are choosen since phrases of full sentences may overfits the word vectors in such a way that words in a sentence may strictly stick to each other if not only sentence but also phrases of that sentence fed."
   ]
  },
  {
   "cell_type": "code",
   "execution_count": 1,
   "metadata": {
    "collapsed": false
   },
   "outputs": [
    {
     "data": {
      "text/html": [
       "<div>\n",
       "<table border=\"1\" class=\"dataframe\">\n",
       "  <thead>\n",
       "    <tr style=\"text-align: right;\">\n",
       "      <th></th>\n",
       "      <th>Unnamed: 0.1</th>\n",
       "      <th>PhraseId</th>\n",
       "      <th>SentenceId</th>\n",
       "      <th>Phrase</th>\n",
       "      <th>Sentiment</th>\n",
       "    </tr>\n",
       "  </thead>\n",
       "  <tbody>\n",
       "    <tr>\n",
       "      <th>20</th>\n",
       "      <td>20</td>\n",
       "      <td>84883.0</td>\n",
       "      <td>4390</td>\n",
       "      <td>jackson tri keep plate spin best bounc back fo...</td>\n",
       "      <td>1.5</td>\n",
       "    </tr>\n",
       "    <tr>\n",
       "      <th>21</th>\n",
       "      <td>21</td>\n",
       "      <td>41276.0</td>\n",
       "      <td>1981</td>\n",
       "      <td>muddl repetit rag say far less horrifi histor ...</td>\n",
       "      <td>0.0</td>\n",
       "    </tr>\n",
       "    <tr>\n",
       "      <th>24</th>\n",
       "      <td>24</td>\n",
       "      <td>118544.0</td>\n",
       "      <td>6334</td>\n",
       "      <td>unexpect thing die in thi shower blackandwhit ...</td>\n",
       "      <td>3.0</td>\n",
       "    </tr>\n",
       "    <tr>\n",
       "      <th>53</th>\n",
       "      <td>53</td>\n",
       "      <td>43647.0</td>\n",
       "      <td>2115</td>\n",
       "      <td>beauti produc</td>\n",
       "      <td>4.0</td>\n",
       "    </tr>\n",
       "    <tr>\n",
       "      <th>54</th>\n",
       "      <td>54</td>\n",
       "      <td>78948.0</td>\n",
       "      <td>4062</td>\n",
       "      <td>moment real pleasur found in sara sugarman whi...</td>\n",
       "      <td>2.0</td>\n",
       "    </tr>\n",
       "  </tbody>\n",
       "</table>\n",
       "</div>"
      ],
      "text/plain": [
       "    Unnamed: 0.1  PhraseId  SentenceId  \\\n",
       "20            20   84883.0        4390   \n",
       "21            21   41276.0        1981   \n",
       "24            24  118544.0        6334   \n",
       "53            53   43647.0        2115   \n",
       "54            54   78948.0        4062   \n",
       "\n",
       "                                               Phrase  Sentiment  \n",
       "20  jackson tri keep plate spin best bounc back fo...        1.5  \n",
       "21  muddl repetit rag say far less horrifi histor ...        0.0  \n",
       "24  unexpect thing die in thi shower blackandwhit ...        3.0  \n",
       "53                                      beauti produc        4.0  \n",
       "54  moment real pleasur found in sara sugarman whi...        2.0  "
      ]
     },
     "execution_count": 1,
     "metadata": {},
     "output_type": "execute_result"
    }
   ],
   "source": [
    "import pandas as pd\n",
    "from IPython.core.debugger import Tracer; debug = Tracer()\n",
    "import numpy as np\n",
    "df=pd.read_csv('data/train-clean.csv',sep=\"\\t\")\n",
    "df = df.drop('Unnamed: 0', 1)\n",
    "#print(\"total data size: \",len(df))\n",
    "\n",
    "#code finds the longest phrases of same sentenceid, assign other phrases as NaN then delete related rows\n",
    "#\"same\" holds the indexes of phrases with same sentence id\n",
    "#\"ind_ex\" holds the longest phrase index up to that point of code\n",
    "#\"lenght\" holds the length of longest phrase at index \"ind_ex\" up to that point of code\n",
    "#\"new_lenght holds the coming phrase length that will be compared to \"length\" if longer \"ind_ex\" and \"length\" will be refreshed\n",
    "same=[]\n",
    "ind_ex_=0\n",
    "length=0\n",
    "new_length=0\n",
    "\n",
    "for indx,row in df.iterrows():\n",
    "    if row.PhraseId!=np.nan :\n",
    "        same=df.SentenceId[df.SentenceId==row.SentenceId]\n",
    "        if len(same.index)>1:\n",
    "            ind_ex=same.index[0]\n",
    "            length=len(df.loc[ind_ex,'Phrase'])\n",
    "            for x in range(1,len(same.index)):\n",
    "                new_length=len(df.loc[same.index[x],'Phrase'])\n",
    "                if new_length>length:\n",
    "                    df.loc[ind_ex,\"PhraseId\"]=np.nan\n",
    "                    ind_ex=same.index[x]\n",
    "                    length=new_length\n",
    "                else:\n",
    "                    df.loc[same.index[x],\"PhraseId\"]=np.nan\n",
    "                    \n",
    "df=df.dropna()\n",
    "\n",
    "#print(\"size of sentence data: \",len(df))\n",
    "\n",
    "df.head()"
   ]
  },
  {
   "cell_type": "code",
   "execution_count": 2,
   "metadata": {
    "collapsed": true
   },
   "outputs": [],
   "source": [
    "df=df.reset_index(drop=True)"
   ]
  },
  {
   "cell_type": "code",
   "execution_count": 3,
   "metadata": {
    "collapsed": true
   },
   "outputs": [],
   "source": [
    "df.to_csv(\"data/train-w2v.csv\", sep='\\t')"
   ]
  },
  {
   "cell_type": "code",
   "execution_count": 4,
   "metadata": {
    "collapsed": false
   },
   "outputs": [
    {
     "name": "stdout",
     "output_type": "stream",
     "text": [
      "done succesfully\n"
     ]
    }
   ],
   "source": [
    "print(\"done succesfully\")"
   ]
  }
 ],
 "metadata": {
  "kernelspec": {
   "display_name": "Python 3",
   "language": "python",
   "name": "python3"
  },
  "language_info": {
   "codemirror_mode": {
    "name": "ipython",
    "version": 3
   },
   "file_extension": ".py",
   "mimetype": "text/x-python",
   "name": "python",
   "nbconvert_exporter": "python",
   "pygments_lexer": "ipython3",
   "version": "3.6.0"
  }
 },
 "nbformat": 4,
 "nbformat_minor": 2
}
