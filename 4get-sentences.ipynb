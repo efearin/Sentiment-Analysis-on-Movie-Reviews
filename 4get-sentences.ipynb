{
 "cells": [
  {
   "cell_type": "markdown",
   "metadata": {},
   "source": [
    "Get only full sentences to feed word2vec. Only full sentences are choosen since phrases of full sentences may overfits the word vectors in such a way that words in a sentence may strictly stick to each other if not only sentence but also phrases of that sentence fed."
   ]
  },
  {
   "cell_type": "code",
   "execution_count": 1,
   "metadata": {
    "collapsed": false
   },
   "outputs": [
    {
     "data": {
      "text/html": [
       "<div>\n",
       "<table border=\"1\" class=\"dataframe\">\n",
       "  <thead>\n",
       "    <tr style=\"text-align: right;\">\n",
       "      <th></th>\n",
       "      <th>PhraseId</th>\n",
       "      <th>SentenceId</th>\n",
       "      <th>Phrase</th>\n",
       "      <th>Sentiment</th>\n",
       "    </tr>\n",
       "  </thead>\n",
       "  <tbody>\n",
       "    <tr>\n",
       "      <th>0</th>\n",
       "      <td>140593.0</td>\n",
       "      <td>7629</td>\n",
       "      <td>yakusho alway wonder longfac sad sack hi chemi...</td>\n",
       "      <td>3.50</td>\n",
       "    </tr>\n",
       "    <tr>\n",
       "      <th>4</th>\n",
       "      <td>152452.0</td>\n",
       "      <td>8319</td>\n",
       "      <td>no clear pictur kill bob crane</td>\n",
       "      <td>1.75</td>\n",
       "    </tr>\n",
       "    <tr>\n",
       "      <th>11</th>\n",
       "      <td>32127.0</td>\n",
       "      <td>1505</td>\n",
       "      <td>pain slow clicheridden film fill hole clyde ba...</td>\n",
       "      <td>1.00</td>\n",
       "    </tr>\n",
       "    <tr>\n",
       "      <th>19</th>\n",
       "      <td>25283.0</td>\n",
       "      <td>1156</td>\n",
       "      <td>reminisc alfr hitchcock thriller scari part in...</td>\n",
       "      <td>3.00</td>\n",
       "    </tr>\n",
       "    <tr>\n",
       "      <th>34</th>\n",
       "      <td>113503.0</td>\n",
       "      <td>6035</td>\n",
       "      <td>approach usher said sit ask rais</td>\n",
       "      <td>0.00</td>\n",
       "    </tr>\n",
       "  </tbody>\n",
       "</table>\n",
       "</div>"
      ],
      "text/plain": [
       "    PhraseId  SentenceId                                             Phrase  \\\n",
       "0   140593.0        7629  yakusho alway wonder longfac sad sack hi chemi...   \n",
       "4   152452.0        8319                     no clear pictur kill bob crane   \n",
       "11   32127.0        1505  pain slow clicheridden film fill hole clyde ba...   \n",
       "19   25283.0        1156  reminisc alfr hitchcock thriller scari part in...   \n",
       "34  113503.0        6035                   approach usher said sit ask rais   \n",
       "\n",
       "    Sentiment  \n",
       "0        3.50  \n",
       "4        1.75  \n",
       "11       1.00  \n",
       "19       3.00  \n",
       "34       0.00  "
      ]
     },
     "execution_count": 1,
     "metadata": {},
     "output_type": "execute_result"
    }
   ],
   "source": [
    "import pandas as pd\n",
    "from IPython.core.debugger import Tracer; debug = Tracer()\n",
    "import numpy as np\n",
    "df=pd.read_csv('data/train-clean.csv',sep=\"\\t\")\n",
    "df = df.drop('Unnamed: 0', 1)\n",
    "#print(\"total data size: \",len(df))\n",
    "\n",
    "#code finds the longest phrases of same sentenceid, assign other phrases as NaN then delete related rows\n",
    "#\"same\" holds the indexes of phrases with same sentence id\n",
    "#\"ind_ex\" holds the longest phrase index up to that point of code\n",
    "#\"lenght\" holds the length of longest phrase at index \"ind_ex\" up to that point of code\n",
    "#\"new_lenght holds the coming phrase length that will be compared to \"length\" if longer \"ind_ex\" and \"length\" will be refreshed\n",
    "same=[]\n",
    "ind_ex_=0\n",
    "length=0\n",
    "new_length=0\n",
    "\n",
    "for indx,row in df.iterrows():\n",
    "    if row.PhraseId!=np.nan :\n",
    "        same=df.SentenceId[df.SentenceId==row.SentenceId]\n",
    "        if len(same.index)>1:\n",
    "            ind_ex=same.index[0]\n",
    "            length=len(df.loc[ind_ex,'Phrase'])\n",
    "            for x in range(1,len(same.index)):\n",
    "                new_length=len(df.loc[same.index[x],'Phrase'])\n",
    "                if new_length>length:\n",
    "                    df.loc[ind_ex,\"PhraseId\"]=np.nan\n",
    "                    ind_ex=same.index[x]\n",
    "                    length=new_length\n",
    "                else:\n",
    "                    df.loc[same.index[x],\"PhraseId\"]=np.nan\n",
    "                    \n",
    "df=df.dropna()\n",
    "\n",
    "#print(\"size of sentence data: \",len(df))\n",
    "\n",
    "df.head()"
   ]
  },
  {
   "cell_type": "code",
   "execution_count": 2,
   "metadata": {
    "collapsed": true
   },
   "outputs": [],
   "source": [
    "df=df.reset_index(drop=True)"
   ]
  },
  {
   "cell_type": "code",
   "execution_count": 3,
   "metadata": {
    "collapsed": true
   },
   "outputs": [],
   "source": [
    "df.to_csv(\"data/train-w2v.csv\", sep='\\t')"
   ]
  },
  {
   "cell_type": "code",
   "execution_count": 4,
   "metadata": {
    "collapsed": false
   },
   "outputs": [
    {
     "name": "stdout",
     "output_type": "stream",
     "text": [
      "done succesfully\n"
     ]
    }
   ],
   "source": [
    "print(\"done succesfully\")"
   ]
  }
 ],
 "metadata": {
  "kernelspec": {
   "display_name": "Python 3",
   "language": "python",
   "name": "python3"
  },
  "language_info": {
   "codemirror_mode": {
    "name": "ipython",
    "version": 3
   },
   "file_extension": ".py",
   "mimetype": "text/x-python",
   "name": "python",
   "nbconvert_exporter": "python",
   "pygments_lexer": "ipython3",
   "version": "3.6.0"
  }
 },
 "nbformat": 4,
 "nbformat_minor": 2
}
