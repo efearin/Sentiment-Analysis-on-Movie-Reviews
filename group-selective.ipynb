{
 "cells": [
  {
   "cell_type": "markdown",
   "metadata": {},
   "source": [
    "Might be used later to speed up the code."
   ]
  },
  {
   "cell_type": "code",
   "execution_count": 1,
   "metadata": {
    "collapsed": false
   },
   "outputs": [
    {
     "name": "stdout",
     "output_type": "stream",
     "text": [
      "   Unnamed: 0  PhraseId  SentenceId  \\\n",
      "0           0         1           1   \n",
      "1           1         2           1   \n",
      "2           2         3           1   \n",
      "3           3         4           1   \n",
      "4           4         5           1   \n",
      "\n",
      "                                              Phrase  Sentiment  \n",
      "0  a series of escapades demonstrating the adage ...          1  \n",
      "1  a series of escapades demonstrating the adage ...          2  \n",
      "2                                           a series          2  \n",
      "3                                                  a          2  \n",
      "4                                             series          2  \n",
      "<class 'pandas.core.frame.DataFrame'>\n",
      "RangeIndex: 156060 entries, 0 to 156059\n",
      "Data columns (total 5 columns):\n",
      "Unnamed: 0    156060 non-null int64\n",
      "PhraseId      156060 non-null int64\n",
      "SentenceId    156060 non-null int64\n",
      "Phrase        156035 non-null object\n",
      "Sentiment     156060 non-null int64\n",
      "dtypes: int64(4), object(1)\n",
      "memory usage: 6.0+ MB\n",
      "          Unnamed: 0       PhraseId     SentenceId      Sentiment\n",
      "count  156060.000000  156060.000000  156060.000000  156060.000000\n",
      "mean    78029.500000   78030.500000    4079.732744       2.063578\n",
      "std     45050.785842   45050.785842    2502.764394       0.893832\n",
      "min         0.000000       1.000000       1.000000       0.000000\n",
      "25%     39014.750000   39015.750000    1861.750000       2.000000\n",
      "50%     78029.500000   78030.500000    4017.000000       2.000000\n",
      "75%    117044.250000  117045.250000    6244.000000       3.000000\n",
      "max    156059.000000  156060.000000    8544.000000       4.000000\n",
      "---------------------------------------------------------------------------------------------\n"
     ]
    },
    {
     "ename": "ValueError",
     "evalue": "cannot index with vector containing NA / NaN values",
     "output_type": "error",
     "traceback": [
      "\u001b[0;31m---------------------------------------------------------------------------\u001b[0m",
      "\u001b[0;31mValueError\u001b[0m                                Traceback (most recent call last)",
      "\u001b[0;32m<ipython-input-1-949f801aa8a0>\u001b[0m in \u001b[0;36m<module>\u001b[0;34m()\u001b[0m\n\u001b[1;32m     11\u001b[0m \u001b[0monedf\u001b[0m\u001b[1;33m=\u001b[0m\u001b[0mdf\u001b[0m\u001b[1;33m.\u001b[0m\u001b[0mcopy\u001b[0m\u001b[1;33m(\u001b[0m\u001b[0mdeep\u001b[0m\u001b[1;33m=\u001b[0m\u001b[1;32mTrue\u001b[0m\u001b[1;33m)\u001b[0m\u001b[1;33m\u001b[0m\u001b[0m\n\u001b[1;32m     12\u001b[0m \u001b[0moneMask\u001b[0m \u001b[1;33m=\u001b[0m \u001b[0monedf\u001b[0m\u001b[1;33m.\u001b[0m\u001b[0mPhrase\u001b[0m\u001b[1;33m.\u001b[0m\u001b[0mstr\u001b[0m\u001b[1;33m.\u001b[0m\u001b[0mmatch\u001b[0m\u001b[1;33m(\u001b[0m\u001b[1;34mr'\\A[\\w-]+\\Z'\u001b[0m\u001b[1;33m)\u001b[0m\u001b[1;33m\u001b[0m\u001b[0m\n\u001b[0;32m---> 13\u001b[0;31m \u001b[0monedf\u001b[0m\u001b[1;33m=\u001b[0m\u001b[0monedf\u001b[0m\u001b[1;33m[\u001b[0m\u001b[0moneMask\u001b[0m\u001b[1;33m]\u001b[0m\u001b[1;33m\u001b[0m\u001b[0m\n\u001b[0m\u001b[1;32m     14\u001b[0m \u001b[0mprint\u001b[0m\u001b[1;33m(\u001b[0m\u001b[0monedf\u001b[0m\u001b[1;33m.\u001b[0m\u001b[0mhead\u001b[0m\u001b[1;33m(\u001b[0m\u001b[1;33m)\u001b[0m\u001b[1;33m)\u001b[0m\u001b[1;33m\u001b[0m\u001b[0m\n\u001b[1;32m     15\u001b[0m \u001b[0monedf\u001b[0m\u001b[1;33m.\u001b[0m\u001b[0minfo\u001b[0m\u001b[1;33m(\u001b[0m\u001b[1;33m)\u001b[0m\u001b[1;33m\u001b[0m\u001b[0m\n",
      "\u001b[0;32mC:\\Users\\efear\\Anaconda3\\lib\\site-packages\\pandas\\core\\frame.py\u001b[0m in \u001b[0;36m__getitem__\u001b[0;34m(self, key)\u001b[0m\n\u001b[1;32m   2051\u001b[0m         \u001b[1;32mif\u001b[0m \u001b[0misinstance\u001b[0m\u001b[1;33m(\u001b[0m\u001b[0mkey\u001b[0m\u001b[1;33m,\u001b[0m \u001b[1;33m(\u001b[0m\u001b[0mSeries\u001b[0m\u001b[1;33m,\u001b[0m \u001b[0mnp\u001b[0m\u001b[1;33m.\u001b[0m\u001b[0mndarray\u001b[0m\u001b[1;33m,\u001b[0m \u001b[0mIndex\u001b[0m\u001b[1;33m,\u001b[0m \u001b[0mlist\u001b[0m\u001b[1;33m)\u001b[0m\u001b[1;33m)\u001b[0m\u001b[1;33m:\u001b[0m\u001b[1;33m\u001b[0m\u001b[0m\n\u001b[1;32m   2052\u001b[0m             \u001b[1;31m# either boolean or fancy integer index\u001b[0m\u001b[1;33m\u001b[0m\u001b[1;33m\u001b[0m\u001b[0m\n\u001b[0;32m-> 2053\u001b[0;31m             \u001b[1;32mreturn\u001b[0m \u001b[0mself\u001b[0m\u001b[1;33m.\u001b[0m\u001b[0m_getitem_array\u001b[0m\u001b[1;33m(\u001b[0m\u001b[0mkey\u001b[0m\u001b[1;33m)\u001b[0m\u001b[1;33m\u001b[0m\u001b[0m\n\u001b[0m\u001b[1;32m   2054\u001b[0m         \u001b[1;32melif\u001b[0m \u001b[0misinstance\u001b[0m\u001b[1;33m(\u001b[0m\u001b[0mkey\u001b[0m\u001b[1;33m,\u001b[0m \u001b[0mDataFrame\u001b[0m\u001b[1;33m)\u001b[0m\u001b[1;33m:\u001b[0m\u001b[1;33m\u001b[0m\u001b[0m\n\u001b[1;32m   2055\u001b[0m             \u001b[1;32mreturn\u001b[0m \u001b[0mself\u001b[0m\u001b[1;33m.\u001b[0m\u001b[0m_getitem_frame\u001b[0m\u001b[1;33m(\u001b[0m\u001b[0mkey\u001b[0m\u001b[1;33m)\u001b[0m\u001b[1;33m\u001b[0m\u001b[0m\n",
      "\u001b[0;32mC:\\Users\\efear\\Anaconda3\\lib\\site-packages\\pandas\\core\\frame.py\u001b[0m in \u001b[0;36m_getitem_array\u001b[0;34m(self, key)\u001b[0m\n\u001b[1;32m   2078\u001b[0m     \u001b[1;32mdef\u001b[0m \u001b[0m_getitem_array\u001b[0m\u001b[1;33m(\u001b[0m\u001b[0mself\u001b[0m\u001b[1;33m,\u001b[0m \u001b[0mkey\u001b[0m\u001b[1;33m)\u001b[0m\u001b[1;33m:\u001b[0m\u001b[1;33m\u001b[0m\u001b[0m\n\u001b[1;32m   2079\u001b[0m         \u001b[1;31m# also raises Exception if object array with NA values\u001b[0m\u001b[1;33m\u001b[0m\u001b[1;33m\u001b[0m\u001b[0m\n\u001b[0;32m-> 2080\u001b[0;31m         \u001b[1;32mif\u001b[0m \u001b[0mcom\u001b[0m\u001b[1;33m.\u001b[0m\u001b[0mis_bool_indexer\u001b[0m\u001b[1;33m(\u001b[0m\u001b[0mkey\u001b[0m\u001b[1;33m)\u001b[0m\u001b[1;33m:\u001b[0m\u001b[1;33m\u001b[0m\u001b[0m\n\u001b[0m\u001b[1;32m   2081\u001b[0m             \u001b[1;31m# warning here just in case -- previously __setitem__ was\u001b[0m\u001b[1;33m\u001b[0m\u001b[1;33m\u001b[0m\u001b[0m\n\u001b[1;32m   2082\u001b[0m             \u001b[1;31m# reindexing but __getitem__ was not; it seems more reasonable to\u001b[0m\u001b[1;33m\u001b[0m\u001b[1;33m\u001b[0m\u001b[0m\n",
      "\u001b[0;32mC:\\Users\\efear\\Anaconda3\\lib\\site-packages\\pandas\\core\\common.py\u001b[0m in \u001b[0;36mis_bool_indexer\u001b[0;34m(key)\u001b[0m\n\u001b[1;32m    199\u001b[0m             \u001b[1;32mif\u001b[0m \u001b[1;32mnot\u001b[0m \u001b[0mlib\u001b[0m\u001b[1;33m.\u001b[0m\u001b[0mis_bool_array\u001b[0m\u001b[1;33m(\u001b[0m\u001b[0mkey\u001b[0m\u001b[1;33m)\u001b[0m\u001b[1;33m:\u001b[0m\u001b[1;33m\u001b[0m\u001b[0m\n\u001b[1;32m    200\u001b[0m                 \u001b[1;32mif\u001b[0m \u001b[0misnull\u001b[0m\u001b[1;33m(\u001b[0m\u001b[0mkey\u001b[0m\u001b[1;33m)\u001b[0m\u001b[1;33m.\u001b[0m\u001b[0many\u001b[0m\u001b[1;33m(\u001b[0m\u001b[1;33m)\u001b[0m\u001b[1;33m:\u001b[0m\u001b[1;33m\u001b[0m\u001b[0m\n\u001b[0;32m--> 201\u001b[0;31m                     raise ValueError('cannot index with vector containing '\n\u001b[0m\u001b[1;32m    202\u001b[0m                                      'NA / NaN values')\n\u001b[1;32m    203\u001b[0m                 \u001b[1;32mreturn\u001b[0m \u001b[1;32mFalse\u001b[0m\u001b[1;33m\u001b[0m\u001b[0m\n",
      "\u001b[0;31mValueError\u001b[0m: cannot index with vector containing NA / NaN values"
     ]
    }
   ],
   "source": [
    "import pandas as pd\n",
    "df=pd.read_csv('data/cleaneddf.csv',sep=\"\\t\")\n",
    "#define group-selective save path\n",
    "path='C:\\\\Users\\\\efear\\\\Documents\\\\GitHub\\\\Sentiment-Analysis-on-Movie-Reviews\\\\data\\\\group-selective\\\\'\n",
    "print(df.head())\n",
    "df.info()\n",
    "print(df.describe())\n",
    "print('---------------------------------------------------------------------------------------------')\n",
    "\n",
    "#single words in df\n",
    "onedf=df.copy(deep=True)\n",
    "oneMask = onedf.Phrase.str.match(r'\\A[\\w-]+\\Z')\n",
    "onedf=onedf[oneMask]\n",
    "print(onedf.head())\n",
    "onedf.info()\n",
    "print(onedf.describe())\n",
    "onedf.to_csv(path+\"onedf.csv\", sep='\\t')\n",
    "print('---------------------------------------------------------------------------------------------')\n",
    "\n",
    "#two words in df\n",
    "twodf=df.copy(deep=True)\n",
    "twoMask = twodf.Phrase.str.match(r'\\A[\\w-]+\\s+[\\w-]+\\Z')\n",
    "twodf=twodf[twoMask]\n",
    "print(twodf.head())\n",
    "twodf.info()\n",
    "print(twodf.describe())\n",
    "twodf.to_csv(path+\"twodf.csv\", sep='\\t')\n",
    "print('---------------------------------------------------------------------------------------------')\n",
    "\n",
    "threedf=df.copy(deep=True)\n",
    "threeMask = threedf.Phrase.str.match(r'\\A[\\w-]+\\s+[\\w-]+\\s+[\\w-]\\Z')\n",
    "threedf=threedf[threeMask]\n",
    "print(threedf.head())\n",
    "threedf.info()\n",
    "print(threedf.describe())\n",
    "threedf.to_csv(path+\"threedf.csv\", sep='\\t')\n",
    "print('---------------------------------------------------------------------------------------------')\n",
    "\n",
    "fourdf=df.copy(deep=True)\n",
    "fourMask = fourdf.Phrase.str.match(r'\\A[\\w-]+\\s+[\\w-]+\\s+[\\w-]\\Z')\n",
    "fourdf=fourdf[fourMask]\n",
    "print(fourdf.head())\n",
    "fourdf.info()\n",
    "print(fourdf.describe())\n",
    "fourdf.to_csv(path+\"fourdf.csv\", sep='\\t')\n",
    "print('---------------------------------------------------------------------------------------------')\n",
    "\n",
    "fivedf=df.copy(deep=True)\n",
    "fiveMask = fivedf.Phrase.str.match(r'\\A[\\w-]+\\s+[\\w-]+\\s+[\\w-]\\Z')\n",
    "fivedf=fivedf[fourMask]\n",
    "print(fivedf.head())\n",
    "fivedf.info()\n",
    "print(fivedf.describe())\n",
    "fivedf.to_csv(path+\"fivedf.csv\", sep='\\t')"
   ]
  },
  {
   "cell_type": "code",
   "execution_count": null,
   "metadata": {
    "collapsed": true
   },
   "outputs": [],
   "source": []
  },
  {
   "cell_type": "code",
   "execution_count": null,
   "metadata": {
    "collapsed": true
   },
   "outputs": [],
   "source": []
  }
 ],
 "metadata": {
  "kernelspec": {
   "display_name": "Python 3",
   "language": "python",
   "name": "python3"
  },
  "language_info": {
   "codemirror_mode": {
    "name": "ipython",
    "version": 3
   },
   "file_extension": ".py",
   "mimetype": "text/x-python",
   "name": "python",
   "nbconvert_exporter": "python",
   "pygments_lexer": "ipython3",
   "version": "3.6.0"
  }
 },
 "nbformat": 4,
 "nbformat_minor": 2
}
