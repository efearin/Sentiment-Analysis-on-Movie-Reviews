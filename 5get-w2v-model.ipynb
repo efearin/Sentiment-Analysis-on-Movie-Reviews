{
 "cells": [
  {
   "cell_type": "code",
   "execution_count": 1,
   "metadata": {
    "collapsed": false
   },
   "outputs": [],
   "source": [
    "from IPython.core.debugger import Tracer; debug = Tracer()\n",
    "import numpy as np\n",
    "import pandas as pd\n",
    "trainw2v=pd.read_csv('data/train-w2v.csv',sep=\"\\t\")"
   ]
  },
  {
   "cell_type": "markdown",
   "metadata": {},
   "source": [
    "Tokenize sentences to feed w2v."
   ]
  },
  {
   "cell_type": "code",
   "execution_count": 2,
   "metadata": {
    "collapsed": true
   },
   "outputs": [],
   "source": [
    "from nltk.tokenize import word_tokenize\n",
    "tokenized_sentences=trainw2v.apply(lambda row: word_tokenize(row['Phrase']), axis=1)"
   ]
  },
  {
   "cell_type": "markdown",
   "metadata": {},
   "source": [
    "Get a model of trained w2v and save it to \"../w2vmodel\""
   ]
  },
  {
   "cell_type": "code",
   "execution_count": 3,
   "metadata": {
    "collapsed": false
   },
   "outputs": [
    {
     "name": "stderr",
     "output_type": "stream",
     "text": [
      "C:\\Users\\efear\\Anaconda3\\lib\\site-packages\\gensim-2.1.0-py3.6-win-amd64.egg\\gensim\\utils.py:860: UserWarning: detected Windows; aliasing chunkize to chunkize_serial\n",
      "  warnings.warn(\"detected Windows; aliasing chunkize to chunkize_serial\")\n",
      "Slow version of gensim.models.doc2vec is being used\n",
      "2017-06-16 00:37:15,498 : WARNING : Slow version of gensim.models.word2vec is being used\n",
      "2017-06-16 00:37:15,500 : INFO : collecting all words and their counts\n",
      "2017-06-16 00:37:15,504 : INFO : PROGRESS: at sentence #0, processed 0 words, keeping 0 word types\n",
      "2017-06-16 00:37:15,534 : INFO : collected 11665 word types from a corpus of 84428 raw words and 8423 sentences\n",
      "2017-06-16 00:37:15,537 : INFO : Loading a fresh vocabulary\n",
      "2017-06-16 00:37:15,566 : INFO : min_count=1 retains 11665 unique words (100% of original 11665, drops 0)\n",
      "2017-06-16 00:37:15,569 : INFO : min_count=1 leaves 84428 word corpus (100% of original 84428, drops 0)\n",
      "2017-06-16 00:37:15,618 : INFO : deleting the raw counts dictionary of 11665 items\n",
      "2017-06-16 00:37:15,620 : INFO : sample=0.001 downsamples 29 most-common words\n",
      "2017-06-16 00:37:15,622 : INFO : downsampling leaves estimated 78623 word corpus (93.1% of prior 84428)\n",
      "2017-06-16 00:37:15,625 : INFO : estimated required memory for 11665 words and 100 dimensions: 15164500 bytes\n",
      "2017-06-16 00:37:15,671 : INFO : resetting layer weights\n",
      "C:\\Users\\efear\\Anaconda3\\lib\\site-packages\\gensim-2.1.0-py3.6-win-amd64.egg\\gensim\\models\\word2vec.py:789: UserWarning: C extension not loaded for Word2Vec, training will be slow. Install a C compiler and reinstall gensim for fast training.\n",
      "  warnings.warn(\"C extension not loaded for Word2Vec, training will be slow. \"\n",
      "2017-06-16 00:37:15,840 : INFO : training model with 3 workers on 11665 vocabulary and 100 features, using sg=0 hs=0 sample=0.001 negative=5 window=5\n",
      "2017-06-16 00:37:23,367 : INFO : PROGRESS: at 2.46% examples, 1236 words/s, in_qsize 5, out_qsize 0\n",
      "2017-06-16 00:37:30,521 : INFO : PROGRESS: at 9.65% examples, 2540 words/s, in_qsize 5, out_qsize 0\n",
      "2017-06-16 00:37:37,679 : INFO : PROGRESS: at 16.67% examples, 2985 words/s, in_qsize 5, out_qsize 0\n",
      "2017-06-16 00:37:38,760 : INFO : PROGRESS: at 21.39% examples, 3656 words/s, in_qsize 6, out_qsize 0\n",
      "2017-06-16 00:37:44,971 : INFO : PROGRESS: at 23.77% examples, 3196 words/s, in_qsize 5, out_qsize 0\n",
      "2017-06-16 00:37:46,432 : INFO : PROGRESS: at 28.62% examples, 3653 words/s, in_qsize 5, out_qsize 0\n",
      "2017-06-16 00:37:52,202 : INFO : PROGRESS: at 30.97% examples, 3328 words/s, in_qsize 5, out_qsize 0\n",
      "2017-06-16 00:37:53,344 : INFO : PROGRESS: at 33.32% examples, 3475 words/s, in_qsize 6, out_qsize 0\n",
      "2017-06-16 00:37:59,345 : INFO : PROGRESS: at 37.95% examples, 3423 words/s, in_qsize 5, out_qsize 0\n",
      "2017-06-16 00:38:00,776 : INFO : PROGRESS: at 40.27% examples, 3521 words/s, in_qsize 6, out_qsize 0\n",
      "2017-06-16 00:38:07,358 : INFO : PROGRESS: at 45.11% examples, 3432 words/s, in_qsize 5, out_qsize 0\n",
      "2017-06-16 00:38:09,489 : INFO : PROGRESS: at 47.53% examples, 3470 words/s, in_qsize 6, out_qsize 0\n",
      "2017-06-16 00:38:11,187 : INFO : PROGRESS: at 49.89% examples, 3532 words/s, in_qsize 5, out_qsize 0\n",
      "2017-06-16 00:38:18,115 : INFO : PROGRESS: at 52.23% examples, 3288 words/s, in_qsize 5, out_qsize 0\n",
      "2017-06-16 00:38:20,396 : INFO : PROGRESS: at 54.60% examples, 3316 words/s, in_qsize 5, out_qsize 0\n",
      "2017-06-16 00:38:21,808 : INFO : PROGRESS: at 56.92% examples, 3386 words/s, in_qsize 5, out_qsize 0\n",
      "2017-06-16 00:38:26,859 : INFO : PROGRESS: at 59.22% examples, 3277 words/s, in_qsize 6, out_qsize 0\n",
      "2017-06-16 00:38:28,635 : INFO : PROGRESS: at 61.64% examples, 3324 words/s, in_qsize 5, out_qsize 0\n",
      "2017-06-16 00:38:29,790 : INFO : PROGRESS: at 64.02% examples, 3399 words/s, in_qsize 5, out_qsize 0\n",
      "2017-06-16 00:38:34,327 : INFO : PROGRESS: at 66.45% examples, 3321 words/s, in_qsize 5, out_qsize 0\n",
      "2017-06-16 00:38:36,378 : INFO : PROGRESS: at 68.85% examples, 3352 words/s, in_qsize 6, out_qsize 0\n",
      "2017-06-16 00:38:37,700 : INFO : PROGRESS: at 71.20% examples, 3412 words/s, in_qsize 5, out_qsize 0\n",
      "2017-06-16 00:38:43,159 : INFO : PROGRESS: at 73.55% examples, 3305 words/s, in_qsize 6, out_qsize 0\n",
      "2017-06-16 00:38:45,149 : INFO : PROGRESS: at 75.90% examples, 3335 words/s, in_qsize 6, out_qsize 0\n",
      "2017-06-16 00:38:46,660 : INFO : PROGRESS: at 78.22% examples, 3382 words/s, in_qsize 5, out_qsize 0\n",
      "2017-06-16 00:38:50,396 : INFO : PROGRESS: at 80.53% examples, 3347 words/s, in_qsize 5, out_qsize 0\n",
      "2017-06-16 00:38:52,687 : INFO : PROGRESS: at 82.92% examples, 3364 words/s, in_qsize 5, out_qsize 0\n",
      "2017-06-16 00:38:54,267 : INFO : PROGRESS: at 85.38% examples, 3404 words/s, in_qsize 5, out_qsize 0\n",
      "2017-06-16 00:38:57,575 : INFO : PROGRESS: at 87.80% examples, 3385 words/s, in_qsize 5, out_qsize 0\n",
      "2017-06-16 00:39:00,139 : INFO : PROGRESS: at 90.14% examples, 3391 words/s, in_qsize 5, out_qsize 0\n",
      "2017-06-16 00:39:01,955 : INFO : PROGRESS: at 92.48% examples, 3421 words/s, in_qsize 4, out_qsize 0\n",
      "2017-06-16 00:39:05,171 : INFO : PROGRESS: at 94.85% examples, 3405 words/s, in_qsize 3, out_qsize 0\n",
      "2017-06-16 00:39:07,097 : INFO : PROGRESS: at 95.40% examples, 3366 words/s, in_qsize 2, out_qsize 1\n",
      "2017-06-16 00:39:07,101 : INFO : worker thread finished; awaiting finish of 2 more threads\n",
      "2017-06-16 00:39:07,754 : INFO : worker thread finished; awaiting finish of 1 more threads\n",
      "2017-06-16 00:39:08,166 : INFO : PROGRESS: at 100.00% examples, 3500 words/s, in_qsize 0, out_qsize 1\n",
      "2017-06-16 00:39:08,166 : INFO : worker thread finished; awaiting finish of 0 more threads\n",
      "2017-06-16 00:39:08,166 : INFO : training on 422140 raw words (393063 effective words) took 112.3s, 3500 effective words/s\n",
      "2017-06-16 00:39:08,170 : INFO : saving Word2Vec object under w2vmodel, separately None\n",
      "2017-06-16 00:39:08,170 : INFO : not storing attribute syn0norm\n",
      "2017-06-16 00:39:08,174 : INFO : not storing attribute cum_table\n",
      "2017-06-16 00:39:08,280 : INFO : saved w2vmodel\n"
     ]
    }
   ],
   "source": [
    "import gensim, logging\n",
    "logging.basicConfig(format='%(asctime)s : %(levelname)s : %(message)s', level=logging.INFO)\n",
    "model = gensim.models.Word2Vec(tokenized_sentences, min_count=1)\n",
    "model.save('w2vmodel')"
   ]
  },
  {
   "cell_type": "code",
   "execution_count": 4,
   "metadata": {
    "collapsed": false
   },
   "outputs": [
    {
     "name": "stdout",
     "output_type": "stream",
     "text": [
      "done succesfully\n"
     ]
    }
   ],
   "source": [
    "print(\"done succesfully\")"
   ]
  }
 ],
 "metadata": {
  "kernelspec": {
   "display_name": "Python 3",
   "language": "python",
   "name": "python3"
  },
  "language_info": {
   "codemirror_mode": {
    "name": "ipython",
    "version": 3
   },
   "file_extension": ".py",
   "mimetype": "text/x-python",
   "name": "python",
   "nbconvert_exporter": "python",
   "pygments_lexer": "ipython3",
   "version": "3.6.0"
  }
 },
 "nbformat": 4,
 "nbformat_minor": 2
}
