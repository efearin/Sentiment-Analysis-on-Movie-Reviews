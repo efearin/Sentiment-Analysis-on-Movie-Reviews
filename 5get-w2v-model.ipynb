{
 "cells": [
  {
   "cell_type": "markdown",
   "metadata": {},
   "source": [
    "PURPOSE OF CODE\n",
    "\n",
    "Get vector representations of words in a way that similar words in meaning are close each other as euclidean distance."
   ]
  },
  {
   "cell_type": "markdown",
   "metadata": {},
   "source": [
    "PROCESS NOTES\n",
    "\n",
    "WILL BE DONE\n",
    "\n",
    "DONE\n",
    "- in sentence dataset all sentences are tokenized\n",
    "- tokenized list is fed to w2v and model saved "
   ]
  },
  {
   "cell_type": "code",
   "execution_count": 1,
   "metadata": {
    "collapsed": false
   },
   "outputs": [],
   "source": [
    "from IPython.core.debugger import Tracer; debug = Tracer()\n",
    "import numpy as np\n",
    "import pandas as pd\n",
    "trainw2v=pd.read_csv('data/train-w2v.csv',sep=\"\\t\")"
   ]
  },
  {
   "cell_type": "markdown",
   "metadata": {},
   "source": [
    "Tokenize sentences to feed w2v."
   ]
  },
  {
   "cell_type": "code",
   "execution_count": 2,
   "metadata": {
    "collapsed": false
   },
   "outputs": [],
   "source": [
    "from nltk.tokenize import word_tokenize\n",
    "tokenized_sentences=trainw2v.apply(lambda row: word_tokenize(row['Phrase']), axis=1)"
   ]
  },
  {
   "cell_type": "code",
   "execution_count": null,
   "metadata": {
    "collapsed": true
   },
   "outputs": [],
   "source": [
    ""
   ]
  },
  {
   "cell_type": "markdown",
   "metadata": {},
   "source": [
    "Get a model of trained w2v and save it to \"../w2vmodel\""
   ]
  },
  {
   "cell_type": "code",
   "execution_count": 3,
   "metadata": {
    "collapsed": false
   },
   "outputs": [
    {
     "name": "stderr",
     "output_type": "stream",
     "text": [
      "C:\\Users\\efear\\Anaconda3\\lib\\site-packages\\gensim-2.1.0-py3.6-win-amd64.egg\\gensim\\utils.py:860: UserWarning: detected Windows; aliasing chunkize to chunkize_serial\n",
      "  warnings.warn(\"detected Windows; aliasing chunkize to chunkize_serial\")\n",
      "Slow version of gensim.models.doc2vec is being used\n",
      "2017-06-26 00:20:51,142 : WARNING : Slow version of gensim.models.word2vec is being used\n",
      "2017-06-26 00:20:51,148 : INFO : collecting all words and their counts\n",
      "2017-06-26 00:20:51,152 : INFO : PROGRESS: at sentence #0, processed 0 words, keeping 0 word types\n",
      "2017-06-26 00:20:51,198 : INFO : collected 11665 word types from a corpus of 84548 raw words and 8402 sentences\n",
      "2017-06-26 00:20:51,199 : INFO : Loading a fresh vocabulary\n",
      "2017-06-26 00:20:51,224 : INFO : min_count=1 retains 11665 unique words (100% of original 11665, drops 0)\n",
      "2017-06-26 00:20:51,226 : INFO : min_count=1 leaves 84548 word corpus (100% of original 84548, drops 0)\n",
      "2017-06-26 00:20:51,267 : INFO : deleting the raw counts dictionary of 11665 items\n",
      "2017-06-26 00:20:51,269 : INFO : sample=0.001 downsamples 29 most-common words\n",
      "2017-06-26 00:20:51,270 : INFO : downsampling leaves estimated 78724 word corpus (93.1% of prior 84548)\n",
      "2017-06-26 00:20:51,272 : INFO : estimated required memory for 11665 words and 100 dimensions: 15164500 bytes\n",
      "2017-06-26 00:20:51,308 : INFO : resetting layer weights\n",
      "C:\\Users\\efear\\Anaconda3\\lib\\site-packages\\gensim-2.1.0-py3.6-win-amd64.egg\\gensim\\models\\word2vec.py:789: UserWarning: C extension not loaded for Word2Vec, training will be slow. Install a C compiler and reinstall gensim for fast training.\n",
      "  warnings.warn(\"C extension not loaded for Word2Vec, training will be slow. \"\n",
      "2017-06-26 00:20:51,475 : INFO : training model with 3 workers on 11665 vocabulary and 100 features, using sg=0 hs=0 sample=0.001 negative=5 window=5\n",
      "2017-06-26 00:20:59,940 : INFO : PROGRESS: at 2.43% examples, 1104 words/s, in_qsize 5, out_qsize 0\n",
      "2017-06-26 00:21:07,958 : INFO : PROGRESS: at 9.73% examples, 2257 words/s, in_qsize 5, out_qsize 0\n",
      "2017-06-26 00:21:15,963 : INFO : PROGRESS: at 16.78% examples, 2661 words/s, in_qsize 5, out_qsize 0\n",
      "2017-06-26 00:21:24,024 : INFO : PROGRESS: at 23.81% examples, 2860 words/s, in_qsize 6, out_qsize 0\n",
      "2017-06-26 00:21:31,979 : INFO : PROGRESS: at 31.06% examples, 2987 words/s, in_qsize 6, out_qsize 0\n",
      "2017-06-26 00:21:33,279 : INFO : PROGRESS: at 35.72% examples, 3339 words/s, in_qsize 6, out_qsize 0\n",
      "2017-06-26 00:21:40,006 : INFO : PROGRESS: at 37.95% examples, 3067 words/s, in_qsize 6, out_qsize 0\n",
      "2017-06-26 00:21:41,526 : INFO : PROGRESS: at 42.68% examples, 3345 words/s, in_qsize 5, out_qsize 0\n",
      "2017-06-26 00:21:48,100 : INFO : PROGRESS: at 45.10% examples, 3122 words/s, in_qsize 5, out_qsize 0\n",
      "2017-06-26 00:21:49,820 : INFO : PROGRESS: at 49.93% examples, 3349 words/s, in_qsize 5, out_qsize 0\n",
      "2017-06-26 00:21:56,131 : INFO : PROGRESS: at 52.34% examples, 3167 words/s, in_qsize 5, out_qsize 0\n",
      "2017-06-26 00:21:58,055 : INFO : PROGRESS: at 56.96% examples, 3355 words/s, in_qsize 6, out_qsize 0\n",
      "2017-06-26 00:22:04,158 : INFO : PROGRESS: at 59.17% examples, 3200 words/s, in_qsize 6, out_qsize 0\n",
      "2017-06-26 00:22:06,294 : INFO : PROGRESS: at 64.00% examples, 3357 words/s, in_qsize 6, out_qsize 0\n",
      "2017-06-26 00:22:12,156 : INFO : PROGRESS: at 66.42% examples, 3229 words/s, in_qsize 6, out_qsize 0\n",
      "2017-06-26 00:22:13,235 : INFO : PROGRESS: at 68.83% examples, 3299 words/s, in_qsize 6, out_qsize 0\n",
      "2017-06-26 00:22:14,630 : INFO : PROGRESS: at 71.27% examples, 3356 words/s, in_qsize 6, out_qsize 0\n",
      "2017-06-26 00:22:20,163 : INFO : PROGRESS: at 73.59% examples, 3252 words/s, in_qsize 6, out_qsize 0\n",
      "2017-06-26 00:22:21,409 : INFO : PROGRESS: at 75.92% examples, 3310 words/s, in_qsize 6, out_qsize 0\n",
      "2017-06-26 00:22:22,923 : INFO : PROGRESS: at 78.13% examples, 3357 words/s, in_qsize 5, out_qsize 0\n",
      "2017-06-26 00:22:28,077 : INFO : PROGRESS: at 80.39% examples, 3274 words/s, in_qsize 5, out_qsize 0\n",
      "2017-06-26 00:22:29,474 : INFO : PROGRESS: at 82.89% examples, 3322 words/s, in_qsize 5, out_qsize 0\n",
      "2017-06-26 00:22:31,293 : INFO : PROGRESS: at 85.29% examples, 3355 words/s, in_qsize 6, out_qsize 0\n",
      "2017-06-26 00:22:36,138 : INFO : PROGRESS: at 87.75% examples, 3288 words/s, in_qsize 6, out_qsize 0\n",
      "2017-06-26 00:22:37,622 : INFO : PROGRESS: at 90.13% examples, 3330 words/s, in_qsize 5, out_qsize 0\n",
      "2017-06-26 00:22:39,595 : INFO : PROGRESS: at 92.52% examples, 3355 words/s, in_qsize 4, out_qsize 0\n",
      "2017-06-26 00:22:44,211 : INFO : PROGRESS: at 94.85% examples, 3300 words/s, in_qsize 3, out_qsize 0\n",
      "2017-06-26 00:22:45,989 : INFO : PROGRESS: at 97.13% examples, 3330 words/s, in_qsize 2, out_qsize 1\n",
      "2017-06-26 00:22:45,991 : INFO : worker thread finished; awaiting finish of 2 more threads\n",
      "2017-06-26 00:22:46,460 : INFO : worker thread finished; awaiting finish of 1 more threads\n",
      "2017-06-26 00:22:46,741 : INFO : worker thread finished; awaiting finish of 0 more threads\n",
      "2017-06-26 00:22:46,742 : INFO : training on 422740 raw words (393309 effective words) took 115.3s, 3413 effective words/s\n",
      "2017-06-26 00:22:46,744 : INFO : saving Word2Vec object under w2vmodel, separately None\n",
      "2017-06-26 00:22:46,746 : INFO : not storing attribute syn0norm\n",
      "2017-06-26 00:22:46,747 : INFO : not storing attribute cum_table\n",
      "2017-06-26 00:22:46,875 : INFO : saved w2vmodel\n"
     ]
    }
   ],
   "source": [
    "import gensim, logging\n",
    "logging.basicConfig(format='%(asctime)s : %(levelname)s : %(message)s', level=logging.INFO)\n",
    "model = gensim.models.Word2Vec(tokenized_sentences, min_count=1)\n",
    "model.save('w2vmodel')"
   ]
  },
  {
   "cell_type": "code",
   "execution_count": 4,
   "metadata": {
    "collapsed": false
   },
   "outputs": [
    {
     "name": "stdout",
     "output_type": "stream",
     "text": [
      "done succesfully\n"
     ]
    }
   ],
   "source": [
    "print(\"done succesfully\")"
   ]
  }
 ],
 "metadata": {
  "kernelspec": {
   "display_name": "Python 3",
   "language": "python",
   "name": "python3"
  },
  "language_info": {
   "codemirror_mode": {
    "name": "ipython",
    "version": 3
   },
   "file_extension": ".py",
   "mimetype": "text/x-python",
   "name": "python",
   "nbconvert_exporter": "python",
   "pygments_lexer": "ipython3",
   "version": "3.6.0"
  }
 },
 "nbformat": 4,
 "nbformat_minor": 0
}
