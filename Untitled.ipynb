{
 "cells": [
  {
   "cell_type": "code",
   "execution_count": 7,
   "metadata": {
    "collapsed": false
   },
   "outputs": [
    {
     "data": {
      "text/html": [
       "<div>\n",
       "<table border=\"1\" class=\"dataframe\">\n",
       "  <thead>\n",
       "    <tr style=\"text-align: right;\">\n",
       "      <th></th>\n",
       "      <th>PhraseId</th>\n",
       "      <th>SentenceId</th>\n",
       "      <th>Phrase</th>\n",
       "      <th>Sentiment</th>\n",
       "      <th>calculation</th>\n",
       "      <th>error</th>\n",
       "    </tr>\n",
       "  </thead>\n",
       "  <tbody>\n",
       "    <tr>\n",
       "      <th>0</th>\n",
       "      <td>20709</td>\n",
       "      <td>924</td>\n",
       "      <td>point often tender examin</td>\n",
       "      <td>3</td>\n",
       "      <td>3.000000</td>\n",
       "      <td>0.000000</td>\n",
       "    </tr>\n",
       "    <tr>\n",
       "      <th>1</th>\n",
       "      <td>78868</td>\n",
       "      <td>4059</td>\n",
       "      <td>movi ha script lrb paul pender rrb made wood</td>\n",
       "      <td>1</td>\n",
       "      <td>1.500000</td>\n",
       "      <td>0.500000</td>\n",
       "    </tr>\n",
       "    <tr>\n",
       "      <th>2</th>\n",
       "      <td>147672</td>\n",
       "      <td>8036</td>\n",
       "      <td>mani scenario in hero might opportun triumphan...</td>\n",
       "      <td>2</td>\n",
       "      <td>2.333333</td>\n",
       "      <td>0.333333</td>\n",
       "    </tr>\n",
       "    <tr>\n",
       "      <th>3</th>\n",
       "      <td>96001</td>\n",
       "      <td>5015</td>\n",
       "      <td>visual merit</td>\n",
       "      <td>3</td>\n",
       "      <td>2.500000</td>\n",
       "      <td>0.500000</td>\n",
       "    </tr>\n",
       "    <tr>\n",
       "      <th>4</th>\n",
       "      <td>140432</td>\n",
       "      <td>7621</td>\n",
       "      <td>win piec work fill love movi 1960</td>\n",
       "      <td>3</td>\n",
       "      <td>2.320076</td>\n",
       "      <td>0.679924</td>\n",
       "    </tr>\n",
       "  </tbody>\n",
       "</table>\n",
       "</div>"
      ],
      "text/plain": [
       "   PhraseId  SentenceId                                             Phrase  \\\n",
       "0     20709         924                          point often tender examin   \n",
       "1     78868        4059       movi ha script lrb paul pender rrb made wood   \n",
       "2    147672        8036  mani scenario in hero might opportun triumphan...   \n",
       "3     96001        5015                                       visual merit   \n",
       "4    140432        7621                  win piec work fill love movi 1960   \n",
       "\n",
       "   Sentiment  calculation     error  \n",
       "0          3     3.000000  0.000000  \n",
       "1          1     1.500000  0.500000  \n",
       "2          2     2.333333  0.333333  \n",
       "3          3     2.500000  0.500000  \n",
       "4          3     2.320076  0.679924  "
      ]
     },
     "execution_count": 7,
     "metadata": {},
     "output_type": "execute_result"
    }
   ],
   "source": [
    "import pandas as pd\n",
    "df=pd.read_csv('data/test-calculated.csv',sep=\"\\t\").drop('Unnamed: 0', 1).drop('Unnamed: 0.1', 1)\n",
    "df.head()"
   ]
  },
  {
   "cell_type": "code",
   "execution_count": null,
   "metadata": {
    "collapsed": true
   },
   "outputs": [],
   "source": []
  }
 ],
 "metadata": {
  "kernelspec": {
   "display_name": "Python 3",
   "language": "python",
   "name": "python3"
  },
  "language_info": {
   "codemirror_mode": {
    "name": "ipython",
    "version": 3
   },
   "file_extension": ".py",
   "mimetype": "text/x-python",
   "name": "python",
   "nbconvert_exporter": "python",
   "pygments_lexer": "ipython3",
   "version": "3.6.0"
  }
 },
 "nbformat": 4,
 "nbformat_minor": 2
}
