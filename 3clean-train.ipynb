{
 "cells": [
  {
   "cell_type": "markdown",
   "metadata": {},
   "source": [
    "PURPOSE OF CODE\n",
    "\n",
    "Train data empty phrases are cleaned and same phrase rows are merged as their sentiment scores are averaged."
   ]
  },
  {
   "cell_type": "markdown",
   "metadata": {},
   "source": [
    "PROCESS NOTES\n",
    "\n",
    "WILL BE DONE\n",
    "\n",
    "DONE\n",
    "\n",
    "- empty rows are assigned as NaN and erased\n",
    "- same phrases with different sentiment scores are avaraged and merged as single"
   ]
  },
  {
   "cell_type": "code",
   "execution_count": 30,
   "metadata": {
    "collapsed": false
   },
   "outputs": [
    {
     "data": {
      "text/html": [
       "<div>\n",
       "<table border=\"1\" class=\"dataframe\">\n",
       "  <thead>\n",
       "    <tr style=\"text-align: right;\">\n",
       "      <th></th>\n",
       "      <th>Unnamed: 0.1</th>\n",
       "      <th>PhraseId</th>\n",
       "      <th>SentenceId</th>\n",
       "      <th>Phrase</th>\n",
       "      <th>Sentiment</th>\n",
       "    </tr>\n",
       "  </thead>\n",
       "  <tbody>\n",
       "    <tr>\n",
       "      <th>0</th>\n",
       "      <td>0</td>\n",
       "      <td>20685</td>\n",
       "      <td>923</td>\n",
       "      <td>encourag see threedimension averag middleag wo...</td>\n",
       "      <td>3</td>\n",
       "    </tr>\n",
       "    <tr>\n",
       "      <th>1</th>\n",
       "      <td>1</td>\n",
       "      <td>134482</td>\n",
       "      <td>7254</td>\n",
       "      <td>uncomfort time relev</td>\n",
       "      <td>3</td>\n",
       "    </tr>\n",
       "    <tr>\n",
       "      <th>2</th>\n",
       "      <td>2</td>\n",
       "      <td>71670</td>\n",
       "      <td>3657</td>\n",
       "      <td>film drumbeat authent</td>\n",
       "      <td>2</td>\n",
       "    </tr>\n",
       "    <tr>\n",
       "      <th>3</th>\n",
       "      <td>3</td>\n",
       "      <td>116520</td>\n",
       "      <td>6213</td>\n",
       "      <td>sit enjoy certain level forget</td>\n",
       "      <td>2</td>\n",
       "    </tr>\n",
       "    <tr>\n",
       "      <th>4</th>\n",
       "      <td>4</td>\n",
       "      <td>106992</td>\n",
       "      <td>5649</td>\n",
       "      <td>wellmean patron mask social injustic least rep...</td>\n",
       "      <td>1</td>\n",
       "    </tr>\n",
       "  </tbody>\n",
       "</table>\n",
       "</div>"
      ],
      "text/plain": [
       "   Unnamed: 0.1  PhraseId  SentenceId  \\\n",
       "0             0     20685         923   \n",
       "1             1    134482        7254   \n",
       "2             2     71670        3657   \n",
       "3             3    116520        6213   \n",
       "4             4    106992        5649   \n",
       "\n",
       "                                              Phrase  Sentiment  \n",
       "0  encourag see threedimension averag middleag wo...          3  \n",
       "1                               uncomfort time relev          3  \n",
       "2                              film drumbeat authent          2  \n",
       "3                     sit enjoy certain level forget          2  \n",
       "4  wellmean patron mask social injustic least rep...          1  "
      ]
     },
     "execution_count": 30,
     "metadata": {},
     "output_type": "execute_result"
    }
   ],
   "source": [
    "import numpy as np\n",
    "import pandas as pd\n",
    "df=pd.read_csv('data/train.csv',sep=\"\\t\")\n",
    "df = df.drop('Unnamed: 0', 1)\n",
    "df.head()"
   ]
  },
  {
   "cell_type": "markdown",
   "metadata": {},
   "source": [
    "Replace empty phrase rows to NaN then delete."
   ]
  },
  {
   "cell_type": "code",
   "execution_count": 31,
   "metadata": {
    "collapsed": false
   },
   "outputs": [],
   "source": [
    "#print(\"size of data with empty phrase rows=\",len(df.index))\n",
    "\n",
    "#define a map to change empty phrases to NaN\n",
    "def change_nan(x):\n",
    "    if isinstance(x,str):\n",
    "        words=x.split()\n",
    "        if len(words)>0:\n",
    "            return x\n",
    "    return np.nan\n",
    "\n",
    "df['Phrase'] = df.Phrase.map(change_nan)\n",
    "\n",
    "#remove NaN rows of df\n",
    "df=df.dropna()\n",
    "\n",
    "#reset indexing\n",
    "df=df.reset_index(drop=True)\n",
    "\n",
    "#print(\"size of data after empty phrase rows deleted=\",len(df.index))"
   ]
  },
  {
   "cell_type": "code",
   "execution_count": 32,
   "metadata": {
    "collapsed": false
   },
   "outputs": [
    {
     "data": {
      "text/html": [
       "<div>\n",
       "<table border=\"1\" class=\"dataframe\">\n",
       "  <thead>\n",
       "    <tr style=\"text-align: right;\">\n",
       "      <th></th>\n",
       "      <th>Unnamed: 0.1</th>\n",
       "      <th>PhraseId</th>\n",
       "      <th>SentenceId</th>\n",
       "      <th>Phrase</th>\n",
       "      <th>Sentiment</th>\n",
       "    </tr>\n",
       "  </thead>\n",
       "  <tbody>\n",
       "    <tr>\n",
       "      <th>0</th>\n",
       "      <td>0</td>\n",
       "      <td>20685</td>\n",
       "      <td>923</td>\n",
       "      <td>encourag see threedimension averag middleag wo...</td>\n",
       "      <td>3</td>\n",
       "    </tr>\n",
       "    <tr>\n",
       "      <th>1</th>\n",
       "      <td>1</td>\n",
       "      <td>134482</td>\n",
       "      <td>7254</td>\n",
       "      <td>uncomfort time relev</td>\n",
       "      <td>3</td>\n",
       "    </tr>\n",
       "    <tr>\n",
       "      <th>2</th>\n",
       "      <td>2</td>\n",
       "      <td>71670</td>\n",
       "      <td>3657</td>\n",
       "      <td>film drumbeat authent</td>\n",
       "      <td>2</td>\n",
       "    </tr>\n",
       "    <tr>\n",
       "      <th>3</th>\n",
       "      <td>3</td>\n",
       "      <td>116520</td>\n",
       "      <td>6213</td>\n",
       "      <td>sit enjoy certain level forget</td>\n",
       "      <td>2</td>\n",
       "    </tr>\n",
       "    <tr>\n",
       "      <th>4</th>\n",
       "      <td>4</td>\n",
       "      <td>106992</td>\n",
       "      <td>5649</td>\n",
       "      <td>wellmean patron mask social injustic least rep...</td>\n",
       "      <td>1</td>\n",
       "    </tr>\n",
       "  </tbody>\n",
       "</table>\n",
       "</div>"
      ],
      "text/plain": [
       "   Unnamed: 0.1  PhraseId  SentenceId  \\\n",
       "0             0     20685         923   \n",
       "1             1    134482        7254   \n",
       "2             2     71670        3657   \n",
       "3             3    116520        6213   \n",
       "4             4    106992        5649   \n",
       "\n",
       "                                              Phrase  Sentiment  \n",
       "0  encourag see threedimension averag middleag wo...          3  \n",
       "1                               uncomfort time relev          3  \n",
       "2                              film drumbeat authent          2  \n",
       "3                     sit enjoy certain level forget          2  \n",
       "4  wellmean patron mask social injustic least rep...          1  "
      ]
     },
     "execution_count": 32,
     "metadata": {},
     "output_type": "execute_result"
    }
   ],
   "source": [
    "df.head()"
   ]
  },
  {
   "cell_type": "markdown",
   "metadata": {},
   "source": [
    "Afer clean, the same same phrases with differen sentiment scores created as follows."
   ]
  },
  {
   "cell_type": "code",
   "execution_count": 33,
   "metadata": {
    "collapsed": false
   },
   "outputs": [
    {
     "data": {
      "text/plain": [
       "Unnamed: 0.1                                                    0\n",
       "PhraseId                                                    20685\n",
       "SentenceId                                                    923\n",
       "Phrase          encourag see threedimension averag middleag wo...\n",
       "Sentiment                                                       3\n",
       "Name: 0, dtype: object"
      ]
     },
     "execution_count": 33,
     "metadata": {},
     "output_type": "execute_result"
    }
   ],
   "source": [
    "same=[]\n",
    "for x in df.Phrase:\n",
    "    same=df.Phrase[df.Phrase==x]\n",
    "    if len(same.index)>1:\n",
    "        break\n",
    "df.loc[same.index[0]]\n"
   ]
  },
  {
   "cell_type": "code",
   "execution_count": 34,
   "metadata": {
    "collapsed": false
   },
   "outputs": [
    {
     "data": {
      "text/plain": [
       "Unnamed: 0.1                                                15857\n",
       "PhraseId                                                    20686\n",
       "SentenceId                                                    923\n",
       "Phrase          encourag see threedimension averag middleag wo...\n",
       "Sentiment                                                       4\n",
       "Name: 46823, dtype: object"
      ]
     },
     "execution_count": 34,
     "metadata": {},
     "output_type": "execute_result"
    }
   ],
   "source": [
    "df.loc[same.index[1]]"
   ]
  },
  {
   "cell_type": "markdown",
   "metadata": {},
   "source": [
    "Take a phrase as referance to the \"phrase\" list. Find the same ones in data and record the indexes to the \"same\" list. In such same phrase groups assign the first one as referance by changing its sentiment score to group average and change other phrases to NaN to remove later from the list. Before doing that sentiment scores should be converted into float data type from intiger(as a default)."
   ]
  },
  {
   "cell_type": "code",
   "execution_count": 35,
   "metadata": {
    "collapsed": false
   },
   "outputs": [],
   "source": [
    "#print(\"data type of sentiment scores= \",df.Sentiment.dtype)\n",
    "\n",
    "#convert sentiment scores to float to write averaged ones\n",
    "df.Sentiment=df.Sentiment.astype(float)\n",
    "df.dtypes\n",
    "#print(\"data type of sentiment scores after conversion= \",df.Sentiment.dtype)\n",
    "\n",
    "#write size of data before merge\n",
    "#print(\"data size before merge= \",len(df.index))\n",
    "\n",
    "#\"phrase\" holds the current phrase to compare through whole set and find the indexes of same other phrase rows \n",
    "#which will written in \"same\"\n",
    "#then they will changed to NaN for further clean process\n",
    "#summation holds the summation of same phrase sentiment scores that will avaraged and written to the first phrase among all same phrases\n",
    "same=[]\n",
    "summation=0\n",
    "phrase=[]\n",
    "\n",
    "for index,row in df.iterrows():\n",
    "    if row.Phrase!=np.nan :\n",
    "        same=df.Phrase[df.Phrase==row.Phrase]\n",
    "        if len(same.index)>1:\n",
    "            summation=0\n",
    "            phrase=df.loc[same.index[0],'Phrase']\n",
    "            for x in range(1,len(same.index)):\n",
    "                df.loc[same.index[x],'Phrase']=np.nan\n",
    "                summation+=df.loc[same.index[x],'Sentiment']\n",
    "            summation+=df.loc[same.index[0],'Sentiment']\n",
    "            df.loc[same.index[0],'Sentiment']=summation/len(same.index)\n",
    "\n",
    "#clean all NaN rows\n",
    "df=df.dropna()\n",
    "\n",
    "#write size of data after merge\n",
    "#print(\"data size after merge= \",len(df.index))"
   ]
  },
  {
   "cell_type": "markdown",
   "metadata": {},
   "source": [
    "Remove NaN assigneds and reindex data."
   ]
  },
  {
   "cell_type": "code",
   "execution_count": 36,
   "metadata": {
    "collapsed": false
   },
   "outputs": [
    {
     "data": {
      "text/html": [
       "<div>\n",
       "<table border=\"1\" class=\"dataframe\">\n",
       "  <thead>\n",
       "    <tr style=\"text-align: right;\">\n",
       "      <th></th>\n",
       "      <th>Unnamed: 0.1</th>\n",
       "      <th>PhraseId</th>\n",
       "      <th>SentenceId</th>\n",
       "      <th>Phrase</th>\n",
       "      <th>Sentiment</th>\n",
       "    </tr>\n",
       "  </thead>\n",
       "  <tbody>\n",
       "    <tr>\n",
       "      <th>0</th>\n",
       "      <td>0</td>\n",
       "      <td>20685</td>\n",
       "      <td>923</td>\n",
       "      <td>encourag see threedimension averag middleag wo...</td>\n",
       "      <td>3.666667</td>\n",
       "    </tr>\n",
       "    <tr>\n",
       "      <th>1</th>\n",
       "      <td>1</td>\n",
       "      <td>134482</td>\n",
       "      <td>7254</td>\n",
       "      <td>uncomfort time relev</td>\n",
       "      <td>3.000000</td>\n",
       "    </tr>\n",
       "    <tr>\n",
       "      <th>2</th>\n",
       "      <td>2</td>\n",
       "      <td>71670</td>\n",
       "      <td>3657</td>\n",
       "      <td>film drumbeat authent</td>\n",
       "      <td>2.000000</td>\n",
       "    </tr>\n",
       "    <tr>\n",
       "      <th>3</th>\n",
       "      <td>3</td>\n",
       "      <td>116520</td>\n",
       "      <td>6213</td>\n",
       "      <td>sit enjoy certain level forget</td>\n",
       "      <td>2.000000</td>\n",
       "    </tr>\n",
       "    <tr>\n",
       "      <th>4</th>\n",
       "      <td>4</td>\n",
       "      <td>106992</td>\n",
       "      <td>5649</td>\n",
       "      <td>wellmean patron mask social injustic least rep...</td>\n",
       "      <td>1.666667</td>\n",
       "    </tr>\n",
       "    <tr>\n",
       "      <th>5</th>\n",
       "      <td>5</td>\n",
       "      <td>145547</td>\n",
       "      <td>7912</td>\n",
       "      <td>mani</td>\n",
       "      <td>2.000000</td>\n",
       "    </tr>\n",
       "    <tr>\n",
       "      <th>6</th>\n",
       "      <td>6</td>\n",
       "      <td>103413</td>\n",
       "      <td>5452</td>\n",
       "      <td>profund</td>\n",
       "      <td>2.500000</td>\n",
       "    </tr>\n",
       "    <tr>\n",
       "      <th>7</th>\n",
       "      <td>7</td>\n",
       "      <td>140286</td>\n",
       "      <td>7613</td>\n",
       "      <td>persuad</td>\n",
       "      <td>2.666667</td>\n",
       "    </tr>\n",
       "    <tr>\n",
       "      <th>8</th>\n",
       "      <td>8</td>\n",
       "      <td>105348</td>\n",
       "      <td>5562</td>\n",
       "      <td>compel plot</td>\n",
       "      <td>3.000000</td>\n",
       "    </tr>\n",
       "    <tr>\n",
       "      <th>9</th>\n",
       "      <td>9</td>\n",
       "      <td>90212</td>\n",
       "      <td>4695</td>\n",
       "      <td>darkest varieti</td>\n",
       "      <td>1.250000</td>\n",
       "    </tr>\n",
       "    <tr>\n",
       "      <th>10</th>\n",
       "      <td>10</td>\n",
       "      <td>105649</td>\n",
       "      <td>5577</td>\n",
       "      <td>approach</td>\n",
       "      <td>2.000000</td>\n",
       "    </tr>\n",
       "    <tr>\n",
       "      <th>11</th>\n",
       "      <td>11</td>\n",
       "      <td>51360</td>\n",
       "      <td>2529</td>\n",
       "      <td>hook</td>\n",
       "      <td>2.250000</td>\n",
       "    </tr>\n",
       "    <tr>\n",
       "      <th>12</th>\n",
       "      <td>12</td>\n",
       "      <td>7332</td>\n",
       "      <td>300</td>\n",
       "      <td>mani actor</td>\n",
       "      <td>2.000000</td>\n",
       "    </tr>\n",
       "    <tr>\n",
       "      <th>13</th>\n",
       "      <td>13</td>\n",
       "      <td>50939</td>\n",
       "      <td>2508</td>\n",
       "      <td>no big whoop noth new see</td>\n",
       "      <td>1.000000</td>\n",
       "    </tr>\n",
       "    <tr>\n",
       "      <th>14</th>\n",
       "      <td>14</td>\n",
       "      <td>130806</td>\n",
       "      <td>7048</td>\n",
       "      <td>captiv drama speak nonconformist in us</td>\n",
       "      <td>3.000000</td>\n",
       "    </tr>\n",
       "  </tbody>\n",
       "</table>\n",
       "</div>"
      ],
      "text/plain": [
       "    Unnamed: 0.1  PhraseId  SentenceId  \\\n",
       "0              0     20685         923   \n",
       "1              1    134482        7254   \n",
       "2              2     71670        3657   \n",
       "3              3    116520        6213   \n",
       "4              4    106992        5649   \n",
       "5              5    145547        7912   \n",
       "6              6    103413        5452   \n",
       "7              7    140286        7613   \n",
       "8              8    105348        5562   \n",
       "9              9     90212        4695   \n",
       "10            10    105649        5577   \n",
       "11            11     51360        2529   \n",
       "12            12      7332         300   \n",
       "13            13     50939        2508   \n",
       "14            14    130806        7048   \n",
       "\n",
       "                                               Phrase  Sentiment  \n",
       "0   encourag see threedimension averag middleag wo...   3.666667  \n",
       "1                                uncomfort time relev   3.000000  \n",
       "2                               film drumbeat authent   2.000000  \n",
       "3                      sit enjoy certain level forget   2.000000  \n",
       "4   wellmean patron mask social injustic least rep...   1.666667  \n",
       "5                                                mani   2.000000  \n",
       "6                                             profund   2.500000  \n",
       "7                                             persuad   2.666667  \n",
       "8                                         compel plot   3.000000  \n",
       "9                                     darkest varieti   1.250000  \n",
       "10                                           approach   2.000000  \n",
       "11                                               hook   2.250000  \n",
       "12                                         mani actor   2.000000  \n",
       "13                          no big whoop noth new see   1.000000  \n",
       "14             captiv drama speak nonconformist in us   3.000000  "
      ]
     },
     "execution_count": 36,
     "metadata": {},
     "output_type": "execute_result"
    }
   ],
   "source": [
    "df=df.dropna()\n",
    "df=df.reset_index(drop=True)\n",
    "df.head(15)"
   ]
  },
  {
   "cell_type": "markdown",
   "metadata": {},
   "source": [
    "This cleaned data is sort of vocabulary list. Save file as train-clean.csv under data folder."
   ]
  },
  {
   "cell_type": "code",
   "execution_count": 37,
   "metadata": {
    "collapsed": false
   },
   "outputs": [
    {
     "data": {
      "text/html": [
       "<div>\n",
       "<table border=\"1\" class=\"dataframe\">\n",
       "  <thead>\n",
       "    <tr style=\"text-align: right;\">\n",
       "      <th></th>\n",
       "      <th>Unnamed: 0.1</th>\n",
       "      <th>PhraseId</th>\n",
       "      <th>SentenceId</th>\n",
       "      <th>Sentiment</th>\n",
       "    </tr>\n",
       "  </thead>\n",
       "  <tbody>\n",
       "    <tr>\n",
       "      <th>count</th>\n",
       "      <td>75879.000000</td>\n",
       "      <td>75879.000000</td>\n",
       "      <td>75879.000000</td>\n",
       "      <td>75879.000000</td>\n",
       "    </tr>\n",
       "    <tr>\n",
       "      <th>mean</th>\n",
       "      <td>14945.514253</td>\n",
       "      <td>79189.822902</td>\n",
       "      <td>4142.949419</td>\n",
       "      <td>2.060726</td>\n",
       "    </tr>\n",
       "    <tr>\n",
       "      <th>std</th>\n",
       "      <td>9010.900459</td>\n",
       "      <td>44780.366035</td>\n",
       "      <td>2490.551511</td>\n",
       "      <td>0.880129</td>\n",
       "    </tr>\n",
       "    <tr>\n",
       "      <th>min</th>\n",
       "      <td>0.000000</td>\n",
       "      <td>2.000000</td>\n",
       "      <td>1.000000</td>\n",
       "      <td>0.000000</td>\n",
       "    </tr>\n",
       "    <tr>\n",
       "      <th>25%</th>\n",
       "      <td>7046.000000</td>\n",
       "      <td>40683.500000</td>\n",
       "      <td>1950.000000</td>\n",
       "      <td>1.666667</td>\n",
       "    </tr>\n",
       "    <tr>\n",
       "      <th>50%</th>\n",
       "      <td>14626.000000</td>\n",
       "      <td>79569.000000</td>\n",
       "      <td>4096.000000</td>\n",
       "      <td>2.000000</td>\n",
       "    </tr>\n",
       "    <tr>\n",
       "      <th>75%</th>\n",
       "      <td>22657.000000</td>\n",
       "      <td>118101.000000</td>\n",
       "      <td>6308.000000</td>\n",
       "      <td>2.666667</td>\n",
       "    </tr>\n",
       "    <tr>\n",
       "      <th>max</th>\n",
       "      <td>31211.000000</td>\n",
       "      <td>156060.000000</td>\n",
       "      <td>8544.000000</td>\n",
       "      <td>4.000000</td>\n",
       "    </tr>\n",
       "  </tbody>\n",
       "</table>\n",
       "</div>"
      ],
      "text/plain": [
       "       Unnamed: 0.1       PhraseId    SentenceId     Sentiment\n",
       "count  75879.000000   75879.000000  75879.000000  75879.000000\n",
       "mean   14945.514253   79189.822902   4142.949419      2.060726\n",
       "std     9010.900459   44780.366035   2490.551511      0.880129\n",
       "min        0.000000       2.000000      1.000000      0.000000\n",
       "25%     7046.000000   40683.500000   1950.000000      1.666667\n",
       "50%    14626.000000   79569.000000   4096.000000      2.000000\n",
       "75%    22657.000000  118101.000000   6308.000000      2.666667\n",
       "max    31211.000000  156060.000000   8544.000000      4.000000"
      ]
     },
     "execution_count": 37,
     "metadata": {},
     "output_type": "execute_result"
    }
   ],
   "source": [
    "df.to_csv(\"data/train-clean.csv\", sep='\\t')\n",
    "df.describe()"
   ]
  },
  {
   "cell_type": "code",
   "execution_count": 38,
   "metadata": {
    "collapsed": false
   },
   "outputs": [
    {
     "name": "stdout",
     "output_type": "stream",
     "text": [
      "done succesfully\n"
     ]
    }
   ],
   "source": [
    "print(\"done succesfully\")"
   ]
  },
  {
   "cell_type": "code",
   "execution_count": null,
   "metadata": {
    "collapsed": true
   },
   "outputs": [],
   "source": []
  }
 ],
 "metadata": {
  "kernelspec": {
   "display_name": "Python 3",
   "language": "python",
   "name": "python3"
  },
  "language_info": {
   "codemirror_mode": {
    "name": "ipython",
    "version": 3
   },
   "file_extension": ".py",
   "mimetype": "text/x-python",
   "name": "python",
   "nbconvert_exporter": "python",
   "pygments_lexer": "ipython3",
   "version": "3.6.0"
  }
 },
 "nbformat": 4,
 "nbformat_minor": 2
}
