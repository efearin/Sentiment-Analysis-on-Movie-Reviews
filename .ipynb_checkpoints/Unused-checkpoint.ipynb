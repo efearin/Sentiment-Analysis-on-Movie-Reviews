{
 "cells": [
  {
   "cell_type": "markdown",
   "metadata": {},
   "source": [
    "The dataset is in order so that same phrases are one under the other. Use that property instead of search whole list to find duplicate (searching whole list might be needed in case such same phrase groups on different locations of list). In such same phrase groups assign the first one as main by changing its sentiment score to group average and change other phrases to NaN to remove later from the list. Before doing that sentiment scores should be converted into float data type from intiger(as a default)."
   ]
  },
  {
   "cell_type": "code",
   "execution_count": null,
   "metadata": {
    "collapsed": true
   },
   "outputs": [],
   "source": [
    "print(\"data type of sentiment scores= \",df.Sentiment.dtype)\n",
    "\n",
    "#convert sentiment scores to float to write averaged ones\n",
    "df.Sentiment=df.Sentiment.astype(float)\n",
    "df.dtypes\n",
    "print(\"data type of sentiment scores after conversion= \",df.Sentiment.dtype)\n",
    "\n",
    "#phrase list holds a single phrase to compare it to the next one if same\n",
    "#sum_score holds the sum of same phrases sentiments'\n",
    "#count_same_phrase holds the number of same phrases\n",
    "phrase=[]\n",
    "sum_score=0\n",
    "count_same_phrase=0\n",
    "\n",
    "for index,row in df.iterrows():\n",
    "    #if no phrase is get to previously to compare, get this phrase for next phrase comparings\n",
    "    if len(phrase)==0:\n",
    "        phrase.append(row.Phrase)\n",
    "        sum_score+=row.Sentiment\n",
    "        count_same_phrase+=1\n",
    "    else:\n",
    "        #if this phrase is same with phrase get previously, \n",
    "        #add sentiment score to sum_score and increment count_same_phrase to calculate average later\n",
    "        if row.Phrase==phrase[0]:\n",
    "            sum_score+=row.Sentiment\n",
    "            count_same_phrase+=1\n",
    "        #if this phrase is different the same phrase group is now end \n",
    "        #calculate average score and assign it to same phrase group's first sentiment\n",
    "        #assingn as NaN all sentiments in group other than first one\n",
    "        #change phrase list element with this phrase for next comparings\n",
    "        else:\n",
    "            df.loc[(index-count_same_phrase),'Sentiment']=sum_score/count_same_phrase\n",
    "            while (count_same_phrase > 1):\n",
    "                df.loc[(index-count_same_phrase+1),'Phrase']=np.nan\n",
    "                count_same_phrase-=1\n",
    "            sum_score=row.Sentiment\n",
    "            count_same_phrase=1\n",
    "            phrase[0]=row.Phrase"
   ]
  }
 ],
 "metadata": {
  "kernelspec": {
   "display_name": "Python 3",
   "language": "python",
   "name": "python3"
  },
  "language_info": {
   "codemirror_mode": {
    "name": "ipython",
    "version": 3
   },
   "file_extension": ".py",
   "mimetype": "text/x-python",
   "name": "python",
   "nbconvert_exporter": "python",
   "pygments_lexer": "ipython3",
   "version": "3.6.0"
  }
 },
 "nbformat": 4,
 "nbformat_minor": 2
}
