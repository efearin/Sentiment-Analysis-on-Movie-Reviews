{
 "cells": [
  {
   "cell_type": "code",
   "execution_count": 1,
   "metadata": {
    "collapsed": false
   },
   "outputs": [
    {
     "name": "stderr",
     "output_type": "stream",
     "text": [
      "C:\\Users\\efear\\Anaconda3\\lib\\site-packages\\gensim-2.1.0-py3.6-win-amd64.egg\\gensim\\utils.py:860: UserWarning: detected Windows; aliasing chunkize to chunkize_serial\n",
      "  warnings.warn(\"detected Windows; aliasing chunkize to chunkize_serial\")\n",
      "Slow version of gensim.models.doc2vec is being used\n"
     ]
    }
   ],
   "source": [
    "import gensim, logging"
   ]
  },
  {
   "cell_type": "code",
   "execution_count": 2,
   "metadata": {
    "collapsed": true
   },
   "outputs": [],
   "source": [
    "logging.basicConfig(format='%(asctime)s : %(levelname)s : %(message)s', level=logging.INFO)"
   ]
  },
  {
   "cell_type": "code",
   "execution_count": 3,
   "metadata": {
    "collapsed": true
   },
   "outputs": [],
   "source": [
    "sentences = [['first', 'sentence'], ['second', 'sentence']]"
   ]
  },
  {
   "cell_type": "code",
   "execution_count": 4,
   "metadata": {
    "collapsed": false
   },
   "outputs": [
    {
     "name": "stderr",
     "output_type": "stream",
     "text": [
      "2017-06-04 16:20:57,629 : WARNING : Slow version of gensim.models.word2vec is being used\n",
      "2017-06-04 16:20:57,632 : INFO : collecting all words and their counts\n",
      "2017-06-04 16:20:57,634 : INFO : PROGRESS: at sentence #0, processed 0 words, keeping 0 word types\n",
      "2017-06-04 16:20:57,635 : INFO : collected 3 word types from a corpus of 4 raw words and 2 sentences\n",
      "2017-06-04 16:20:57,638 : INFO : Loading a fresh vocabulary\n",
      "2017-06-04 16:20:57,640 : INFO : min_count=1 retains 3 unique words (100% of original 3, drops 0)\n",
      "2017-06-04 16:20:57,641 : INFO : min_count=1 leaves 4 word corpus (100% of original 4, drops 0)\n",
      "2017-06-04 16:20:57,644 : INFO : deleting the raw counts dictionary of 3 items\n",
      "2017-06-04 16:20:57,646 : INFO : sample=0.001 downsamples 3 most-common words\n",
      "2017-06-04 16:20:57,648 : INFO : downsampling leaves estimated 0 word corpus (5.7% of prior 4)\n",
      "2017-06-04 16:20:57,650 : INFO : estimated required memory for 3 words and 100 dimensions: 3900 bytes\n",
      "2017-06-04 16:20:57,652 : INFO : resetting layer weights\n",
      "C:\\Users\\efear\\Anaconda3\\lib\\site-packages\\gensim-2.1.0-py3.6-win-amd64.egg\\gensim\\models\\word2vec.py:789: UserWarning: C extension not loaded for Word2Vec, training will be slow. Install a C compiler and reinstall gensim for fast training.\n",
      "  warnings.warn(\"C extension not loaded for Word2Vec, training will be slow. \"\n",
      "2017-06-04 16:20:57,655 : INFO : training model with 3 workers on 3 vocabulary and 100 features, using sg=0 hs=0 sample=0.001 negative=5 window=5\n",
      "2017-06-04 16:20:57,660 : INFO : worker thread finished; awaiting finish of 2 more threads\n",
      "2017-06-04 16:20:57,662 : INFO : worker thread finished; awaiting finish of 1 more threads\n",
      "2017-06-04 16:20:57,664 : INFO : worker thread finished; awaiting finish of 0 more threads\n",
      "2017-06-04 16:20:57,666 : INFO : training on 20 raw words (1 effective words) took 0.0s, 149 effective words/s\n",
      "2017-06-04 16:20:57,667 : WARNING : under 10 jobs per worker: consider setting a smaller `batch_words' for smoother alpha decay\n"
     ]
    }
   ],
   "source": [
    "model = gensim.models.Word2Vec(sentences, min_count=1)"
   ]
  },
  {
   "cell_type": "code",
   "execution_count": 7,
   "metadata": {
    "collapsed": false
   },
   "outputs": [
    {
     "data": {
      "text/plain": [
       "array([  2.44728895e-03,  -9.80506535e-04,   1.20788161e-03,\n",
       "        -2.04324629e-03,   4.28515812e-03,   4.92323935e-03,\n",
       "         1.68453669e-03,   1.59246719e-03,  -2.01062160e-03,\n",
       "         4.31312434e-03,  -4.71511064e-03,   1.22592683e-04,\n",
       "         1.61283987e-03,   4.73992061e-03,   1.37400394e-03,\n",
       "        -3.77522595e-03,   4.90011135e-03,   2.71375035e-03,\n",
       "        -1.60956255e-03,  -3.71657079e-03,   7.53807253e-04,\n",
       "         1.15108816e-03,   4.37165378e-03,  -8.33723170e-04,\n",
       "         3.27900145e-03,  -4.24252969e-04,   1.39107788e-03,\n",
       "         2.80123134e-03,  -3.87775991e-03,   1.15384129e-04,\n",
       "         1.07892056e-03,  -4.14333306e-03,   4.51977551e-03,\n",
       "         2.32906896e-03,   3.39556159e-03,   4.57501179e-03,\n",
       "         4.17411327e-03,   3.57388216e-03,   2.52673672e-05,\n",
       "        -7.21235119e-04,   3.29314661e-03,   9.95585113e-04,\n",
       "         3.09345475e-03,  -3.25564318e-03,  -6.72851573e-04,\n",
       "         4.30128910e-03,  -3.64262844e-03,  -1.31261221e-03,\n",
       "         1.79465744e-03,   1.18179130e-03,  -4.19300701e-03,\n",
       "         8.61224544e-04,  -4.61579300e-03,   4.74041764e-04,\n",
       "        -4.95638512e-03,  -4.83186170e-03,  -2.58714589e-03,\n",
       "        -5.40506095e-04,   2.65364739e-04,  -3.10633541e-03,\n",
       "         5.85361267e-04,  -2.74586049e-03,  -4.77108872e-03,\n",
       "        -1.17307785e-03,  -1.72671792e-03,  -4.04131506e-03,\n",
       "         5.24696487e-04,   3.64762428e-03,   8.14287923e-04,\n",
       "        -3.35778604e-04,   8.83820700e-04,  -1.08047121e-03,\n",
       "         1.66817138e-03,   4.34116786e-03,  -3.29501787e-03,\n",
       "         4.81276354e-03,   3.85852158e-03,  -4.23465855e-03,\n",
       "        -1.29819894e-03,  -1.37125215e-04,  -1.69553515e-03,\n",
       "         3.19303130e-03,  -3.03046848e-03,  -3.71485669e-03,\n",
       "        -2.08161841e-03,   1.76393043e-03,  -4.53228038e-03,\n",
       "        -1.55267236e-03,   3.27522750e-03,   3.69847193e-03,\n",
       "        -7.98125344e-04,   2.90017948e-03,   2.78853718e-03,\n",
       "         9.80897574e-04,   4.03379928e-03,  -4.11715545e-03,\n",
       "        -4.91906330e-03,   3.25169740e-03,  -2.09914916e-03,\n",
       "         4.28336098e-05], dtype=float32)"
      ]
     },
     "execution_count": 7,
     "metadata": {},
     "output_type": "execute_result"
    }
   ],
   "source": [
    "model[\"sentence\"]"
   ]
  },
  {
   "cell_type": "code",
   "execution_count": 10,
   "metadata": {
    "collapsed": false
   },
   "outputs": [
    {
     "data": {
      "text/plain": [
       "[('sentence', -0.10141231119632721)]"
      ]
     },
     "execution_count": 10,
     "metadata": {},
     "output_type": "execute_result"
    }
   ],
   "source": [
    "model.most_similar(positive=['first'],negative=['second'],topn=1)"
   ]
  },
  {
   "cell_type": "code",
   "execution_count": null,
   "metadata": {
    "collapsed": true
   },
   "outputs": [],
   "source": []
  }
 ],
 "metadata": {
  "kernelspec": {
   "display_name": "Python 3",
   "language": "python",
   "name": "python3"
  },
  "language_info": {
   "codemirror_mode": {
    "name": "ipython",
    "version": 3
   },
   "file_extension": ".py",
   "mimetype": "text/x-python",
   "name": "python",
   "nbconvert_exporter": "python",
   "pygments_lexer": "ipython3",
   "version": "3.6.0"
  }
 },
 "nbformat": 4,
 "nbformat_minor": 2
}
