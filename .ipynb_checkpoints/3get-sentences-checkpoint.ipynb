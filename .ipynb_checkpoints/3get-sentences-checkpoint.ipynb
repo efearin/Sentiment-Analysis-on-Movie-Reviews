{
 "cells": [
  {
   "cell_type": "markdown",
   "metadata": {},
   "source": [
    "Get only full sentences to feed word2vec. Only full sentences are choosen since phrases of full sentences may overfits the word vectors in such a way that words in a sentence may strictly stick to each other if not only sentence but also phrases of that sentence fed."
   ]
  },
  {
   "cell_type": "code",
   "execution_count": 2,
   "metadata": {
    "collapsed": false
   },
   "outputs": [
    {
     "name": "stdout",
     "output_type": "stream",
     "text": [
      "total data size:  68650\n",
      "size of sentence data:  8346\n"
     ]
    },
    {
     "data": {
      "text/html": [
       "<div>\n",
       "<table border=\"1\" class=\"dataframe\">\n",
       "  <thead>\n",
       "    <tr style=\"text-align: right;\">\n",
       "      <th></th>\n",
       "      <th>PhraseId</th>\n",
       "      <th>SentenceId</th>\n",
       "      <th>Phrase</th>\n",
       "      <th>Sentiment</th>\n",
       "    </tr>\n",
       "  </thead>\n",
       "  <tbody>\n",
       "    <tr>\n",
       "      <th>23</th>\n",
       "      <td>33173.0</td>\n",
       "      <td>1555</td>\n",
       "      <td>thi not classic dramat anim featur hip contemp...</td>\n",
       "      <td>1.000000</td>\n",
       "    </tr>\n",
       "    <tr>\n",
       "      <th>43</th>\n",
       "      <td>104692.0</td>\n",
       "      <td>5530</td>\n",
       "      <td>meet even exceed expect best sequel sinc empir...</td>\n",
       "      <td>4.000000</td>\n",
       "    </tr>\n",
       "    <tr>\n",
       "      <th>57</th>\n",
       "      <td>68442.0</td>\n",
       "      <td>3473</td>\n",
       "      <td>lrb digit effect rrb remind terri gilliam rudi...</td>\n",
       "      <td>2.000000</td>\n",
       "    </tr>\n",
       "    <tr>\n",
       "      <th>64</th>\n",
       "      <td>131176.0</td>\n",
       "      <td>7071</td>\n",
       "      <td>screenwrit respons one worst movi one year dir...</td>\n",
       "      <td>0.500000</td>\n",
       "    </tr>\n",
       "    <tr>\n",
       "      <th>78</th>\n",
       "      <td>148920.0</td>\n",
       "      <td>8102</td>\n",
       "      <td>like four lead actor lot manag squeez few laug...</td>\n",
       "      <td>3.333333</td>\n",
       "    </tr>\n",
       "  </tbody>\n",
       "</table>\n",
       "</div>"
      ],
      "text/plain": [
       "    PhraseId  SentenceId                                             Phrase  \\\n",
       "23   33173.0        1555  thi not classic dramat anim featur hip contemp...   \n",
       "43  104692.0        5530  meet even exceed expect best sequel sinc empir...   \n",
       "57   68442.0        3473  lrb digit effect rrb remind terri gilliam rudi...   \n",
       "64  131176.0        7071  screenwrit respons one worst movi one year dir...   \n",
       "78  148920.0        8102  like four lead actor lot manag squeez few laug...   \n",
       "\n",
       "    Sentiment  \n",
       "23   1.000000  \n",
       "43   4.000000  \n",
       "57   2.000000  \n",
       "64   0.500000  \n",
       "78   3.333333  "
      ]
     },
     "execution_count": 2,
     "metadata": {},
     "output_type": "execute_result"
    }
   ],
   "source": [
    "import pandas as pd\n",
    "from IPython.core.debugger import Tracer; debug = Tracer()\n",
    "import numpy as np\n",
    "df=pd.read_csv('data/train.csv',sep=\"\\t\")\n",
    "df = df.drop('Unnamed: 0', 1)\n",
    "print(\"total data size: \",len(df))\n",
    "\n",
    "#code finds the longest phrases of same sentenceid, assign other phrases as NaN then delete related rows\n",
    "#\"same\" holds the indexes of phrases with same sentence id\n",
    "#\"ind_ex\" holds the longest phrase index up to that point of code\n",
    "#\"lenght\" holds the length of longest phrase at index \"ind_ex\" up to that point of code\n",
    "#\"new_lenght holds the coming phrase length that will be compared to \"length\" if longer \"ind_ex\" and \"length\" will be refreshed\n",
    "same=[]\n",
    "ind_ex_=0\n",
    "length=0\n",
    "new_length=0\n",
    "\n",
    "for indx,row in df.iterrows():\n",
    "    if row.PhraseId!=np.nan :\n",
    "        same=df.SentenceId[df.SentenceId==row.SentenceId]\n",
    "        if len(same.index)>1:\n",
    "            ind_ex=same.index[0]\n",
    "            length=len(df.loc[ind_ex,'Phrase'])\n",
    "            for x in range(1,len(same.index)):\n",
    "                new_length=len(df.loc[same.index[x],'Phrase'])\n",
    "                if new_length>length:\n",
    "                    df.loc[ind_ex,\"PhraseId\"]=np.nan\n",
    "                    ind_ex=same.index[x]\n",
    "                    length=new_length\n",
    "                else:\n",
    "                    df.loc[same.index[x],\"PhraseId\"]=np.nan\n",
    "                    \n",
    "df=df.dropna()\n",
    "\n",
    "print(\"size of sentence data: \",len(df))\n",
    "\n",
    "df.head()"
   ]
  },
  {
   "cell_type": "code",
   "execution_count": 4,
   "metadata": {
    "collapsed": true
   },
   "outputs": [],
   "source": [
    "df=df.reset_index(drop=True)"
   ]
  },
  {
   "cell_type": "code",
   "execution_count": 5,
   "metadata": {
    "collapsed": true
   },
   "outputs": [],
   "source": [
    "df.to_csv(\"data/trainw2v.csv\", sep='\\t')"
   ]
  },
  {
   "cell_type": "code",
   "execution_count": null,
   "metadata": {
    "collapsed": true
   },
   "outputs": [],
   "source": []
  }
 ],
 "metadata": {
  "kernelspec": {
   "display_name": "Python 3",
   "language": "python",
   "name": "python3"
  },
  "language_info": {
   "codemirror_mode": {
    "name": "ipython",
    "version": 3
   },
   "file_extension": ".py",
   "mimetype": "text/x-python",
   "name": "python",
   "nbconvert_exporter": "python",
   "pygments_lexer": "ipython3",
   "version": "3.6.0"
  }
 },
 "nbformat": 4,
 "nbformat_minor": 2
}
