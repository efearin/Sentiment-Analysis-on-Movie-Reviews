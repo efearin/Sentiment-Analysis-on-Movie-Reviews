{
 "cells": [
  {
   "cell_type": "code",
   "execution_count": 1,
   "metadata": {
    "collapsed": false
   },
   "outputs": [
    {
     "name": "stderr",
     "output_type": "stream",
     "text": [
      "C:\\Users\\efear\\Anaconda3\\lib\\site-packages\\gensim-2.1.0-py3.6-win-amd64.egg\\gensim\\utils.py:860: UserWarning: detected Windows; aliasing chunkize to chunkize_serial\n",
      "  warnings.warn(\"detected Windows; aliasing chunkize to chunkize_serial\")\n",
      "Slow version of gensim.models.doc2vec is being used\n"
     ]
    }
   ],
   "source": [
    "import numpy as np\n",
    "import gensim, logging\n",
    "import pandas as pd\n",
    "model= gensim.models.Word2Vec.load(\"w2vmodel\")\n",
    "words=pd.read_csv('data/words.csv',sep=\"\\t\")\n",
    "train=pd.read_csv('data/train-clean.csv',sep=\"\\t\")\n",
    "test=pd.read_csv('data/test.csv',sep=\"\\t\").drop('Unnamed: 0', 1).drop('Unnamed: 0.1', 1)"
   ]
  },
  {
   "cell_type": "code",
   "execution_count": 2,
   "metadata": {
    "collapsed": false
   },
   "outputs": [
    {
     "data": {
      "text/html": [
       "<div>\n",
       "<table border=\"1\" class=\"dataframe\">\n",
       "  <thead>\n",
       "    <tr style=\"text-align: right;\">\n",
       "      <th></th>\n",
       "      <th>PhraseId</th>\n",
       "      <th>SentenceId</th>\n",
       "      <th>Phrase</th>\n",
       "      <th>Sentiment</th>\n",
       "      <th>calculation</th>\n",
       "      <th>error</th>\n",
       "    </tr>\n",
       "  </thead>\n",
       "  <tbody>\n",
       "    <tr>\n",
       "      <th>0</th>\n",
       "      <td>69043</td>\n",
       "      <td>3507</td>\n",
       "      <td>glorious goofi way</td>\n",
       "      <td>3</td>\n",
       "      <td>NaN</td>\n",
       "      <td>NaN</td>\n",
       "    </tr>\n",
       "    <tr>\n",
       "      <th>1</th>\n",
       "      <td>13402</td>\n",
       "      <td>577</td>\n",
       "      <td>start wonder</td>\n",
       "      <td>2</td>\n",
       "      <td>NaN</td>\n",
       "      <td>NaN</td>\n",
       "    </tr>\n",
       "    <tr>\n",
       "      <th>2</th>\n",
       "      <td>71229</td>\n",
       "      <td>3635</td>\n",
       "      <td>green threw medic equip window not becaus wa p...</td>\n",
       "      <td>2</td>\n",
       "      <td>NaN</td>\n",
       "      <td>NaN</td>\n",
       "    </tr>\n",
       "    <tr>\n",
       "      <th>3</th>\n",
       "      <td>102596</td>\n",
       "      <td>5401</td>\n",
       "      <td>end no one in audienc film seem realli care</td>\n",
       "      <td>0</td>\n",
       "      <td>NaN</td>\n",
       "      <td>NaN</td>\n",
       "    </tr>\n",
       "    <tr>\n",
       "      <th>4</th>\n",
       "      <td>7157</td>\n",
       "      <td>292</td>\n",
       "      <td>even aim shock</td>\n",
       "      <td>2</td>\n",
       "      <td>NaN</td>\n",
       "      <td>NaN</td>\n",
       "    </tr>\n",
       "  </tbody>\n",
       "</table>\n",
       "</div>"
      ],
      "text/plain": [
       "   PhraseId  SentenceId                                             Phrase  \\\n",
       "0     69043        3507                                 glorious goofi way   \n",
       "1     13402         577                                       start wonder   \n",
       "2     71229        3635  green threw medic equip window not becaus wa p...   \n",
       "3    102596        5401        end no one in audienc film seem realli care   \n",
       "4      7157         292                                     even aim shock   \n",
       "\n",
       "   Sentiment  calculation  error  \n",
       "0          3          NaN    NaN  \n",
       "1          2          NaN    NaN  \n",
       "2          2          NaN    NaN  \n",
       "3          0          NaN    NaN  \n",
       "4          2          NaN    NaN  "
      ]
     },
     "execution_count": 2,
     "metadata": {},
     "output_type": "execute_result"
    }
   ],
   "source": [
    "test['calculation'] = pd.Series(np.NaN , index=test.index)\n",
    "test['error'] = pd.Series(np.NaN , index=test.index)\n",
    "test.head()"
   ]
  },
  {
   "cell_type": "code",
   "execution_count": null,
   "metadata": {
    "collapsed": true
   },
   "outputs": [],
   "source": [
    "from IPython.core.debugger import Tracer; debug = Tracer()\n",
    "from scipy.spatial import distance\n",
    "\n",
    "def get_direct_score(phrase):\n",
    "    find=train.Phrase[train.Phrase==row.Phrase]\n",
    "    if len(find.index):\n",
    "        #if already in train set assign the score directly\n",
    "        return train.loc[find.index[0],\"Sentiment\"]  \n",
    "    else:\n",
    "        return np.NaN\n",
    "\n",
    "def get_similar_word_score(word):\n",
    "    try:\n",
    "        vec=model[word]\n",
    "        tmpvec=model[words.loc[0,\"Phrase\"]]\n",
    "        tmpindx=0\n",
    "        dist=distance.euclidean(vec,tmpvec)\n",
    "        for indx1,row in words.iterrows():\n",
    "            tmpdist=distance.euclidean(vec,model[row.Phrase])\n",
    "            if tmpdist<dist:\n",
    "                dist=tmpdist\n",
    "                tmpvec=model[row.Phrase]\n",
    "                tmpindx=indx1\n",
    "        return words.loc[tmpindx,\"Sentiment\"]\n",
    "    except:\n",
    "        pass\n",
    "\n",
    "\n",
    "def get_phrase_score(phrase):\n",
    "    attribution_count=0\n",
    "    attribution_sum=0\n",
    "    length=len(phrase)\n",
    "    find=train.Phrase[train.Phrase==phrase]\n",
    "    if len(find):\n",
    "        return train.loc[find[0],'Sentiment']\n",
    "    else:\n",
    "        if length==1:\n",
    "\n",
    "            \n",
    "        \n",
    "    \n",
    "for indx,row in test.iterrows():\n",
    "    "
   ]
  }
 ],
 "metadata": {
  "kernelspec": {
   "display_name": "Python 3",
   "language": "python",
   "name": "python3"
  },
  "language_info": {
   "codemirror_mode": {
    "name": "ipython",
    "version": 3
   },
   "file_extension": ".py",
   "mimetype": "text/x-python",
   "name": "python",
   "nbconvert_exporter": "python",
   "pygments_lexer": "ipython3",
   "version": "3.6.0"
  }
 },
 "nbformat": 4,
 "nbformat_minor": 2
}
