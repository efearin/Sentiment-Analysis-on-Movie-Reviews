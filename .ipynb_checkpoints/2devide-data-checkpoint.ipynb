{
 "cells": [
  {
   "cell_type": "markdown",
   "metadata": {},
   "source": [
    "PURPOSE OF CODE\n",
    "\n",
    "Data is devided randomly into 5 equal group to use %80 of data for train and %20 for test for the purpose of further validation."
   ]
  },
  {
   "cell_type": "markdown",
   "metadata": {},
   "source": [
    "PROCESS NOTES\n",
    "\n",
    "WILL BE DONE\n",
    "\n",
    "DONE\n",
    "- data is randomized as rows\n",
    "- devided into 5 group with equal number of rows\n",
    "- saved as 1df.csv, 2df.csv .."
   ]
  },
  {
   "cell_type": "markdown",
   "metadata": {},
   "source": [
    "Load is at locatin ../data/data-clean.csv"
   ]
  },
  {
   "cell_type": "code",
   "execution_count": 1,
   "metadata": {
    "collapsed": false
   },
   "outputs": [
    {
     "data": {
      "text/html": [
       "<div>\n",
       "<table border=\"1\" class=\"dataframe\">\n",
       "  <thead>\n",
       "    <tr style=\"text-align: right;\">\n",
       "      <th></th>\n",
       "      <th>Unnamed: 0</th>\n",
       "      <th>PhraseId</th>\n",
       "      <th>SentenceId</th>\n",
       "      <th>Phrase</th>\n",
       "      <th>Sentiment</th>\n",
       "    </tr>\n",
       "  </thead>\n",
       "  <tbody>\n",
       "    <tr>\n",
       "      <th>0</th>\n",
       "      <td>0</td>\n",
       "      <td>1</td>\n",
       "      <td>1</td>\n",
       "      <td>seri escapad demonstr adag good goos also good...</td>\n",
       "      <td>1</td>\n",
       "    </tr>\n",
       "    <tr>\n",
       "      <th>1</th>\n",
       "      <td>1</td>\n",
       "      <td>2</td>\n",
       "      <td>1</td>\n",
       "      <td>seri escapad demonstr adag good goos</td>\n",
       "      <td>2</td>\n",
       "    </tr>\n",
       "    <tr>\n",
       "      <th>2</th>\n",
       "      <td>2</td>\n",
       "      <td>3</td>\n",
       "      <td>1</td>\n",
       "      <td>seri</td>\n",
       "      <td>2</td>\n",
       "    </tr>\n",
       "    <tr>\n",
       "      <th>3</th>\n",
       "      <td>3</td>\n",
       "      <td>4</td>\n",
       "      <td>1</td>\n",
       "      <td>NaN</td>\n",
       "      <td>2</td>\n",
       "    </tr>\n",
       "    <tr>\n",
       "      <th>4</th>\n",
       "      <td>4</td>\n",
       "      <td>5</td>\n",
       "      <td>1</td>\n",
       "      <td>seri</td>\n",
       "      <td>2</td>\n",
       "    </tr>\n",
       "  </tbody>\n",
       "</table>\n",
       "</div>"
      ],
      "text/plain": [
       "   Unnamed: 0  PhraseId  SentenceId  \\\n",
       "0           0         1           1   \n",
       "1           1         2           1   \n",
       "2           2         3           1   \n",
       "3           3         4           1   \n",
       "4           4         5           1   \n",
       "\n",
       "                                              Phrase  Sentiment  \n",
       "0  seri escapad demonstr adag good goos also good...          1  \n",
       "1               seri escapad demonstr adag good goos          2  \n",
       "2                                               seri          2  \n",
       "3                                                NaN          2  \n",
       "4                                               seri          2  "
      ]
     },
     "execution_count": 1,
     "metadata": {},
     "output_type": "execute_result"
    }
   ],
   "source": [
    "import numpy as np\n",
    "import pandas as pd\n",
    "df=pd.read_csv('data/data-clean.csv',sep=\"\\t\")\n",
    "df.head()"
   ]
  },
  {
   "cell_type": "markdown",
   "metadata": {},
   "source": [
    "Remove column \"Unnamed: 0\""
   ]
  },
  {
   "cell_type": "code",
   "execution_count": 2,
   "metadata": {
    "collapsed": false
   },
   "outputs": [
    {
     "data": {
      "text/html": [
       "<div>\n",
       "<table border=\"1\" class=\"dataframe\">\n",
       "  <thead>\n",
       "    <tr style=\"text-align: right;\">\n",
       "      <th></th>\n",
       "      <th>PhraseId</th>\n",
       "      <th>SentenceId</th>\n",
       "      <th>Phrase</th>\n",
       "      <th>Sentiment</th>\n",
       "    </tr>\n",
       "  </thead>\n",
       "  <tbody>\n",
       "    <tr>\n",
       "      <th>71</th>\n",
       "      <td>72</td>\n",
       "      <td>2</td>\n",
       "      <td>introspect</td>\n",
       "      <td>3</td>\n",
       "    </tr>\n",
       "    <tr>\n",
       "      <th>72</th>\n",
       "      <td>73</td>\n",
       "      <td>2</td>\n",
       "      <td>introspect</td>\n",
       "      <td>2</td>\n",
       "    </tr>\n",
       "    <tr>\n",
       "      <th>73</th>\n",
       "      <td>74</td>\n",
       "      <td>2</td>\n",
       "      <td>NaN</td>\n",
       "      <td>2</td>\n",
       "    </tr>\n",
       "    <tr>\n",
       "      <th>74</th>\n",
       "      <td>75</td>\n",
       "      <td>2</td>\n",
       "      <td>entertain</td>\n",
       "      <td>4</td>\n",
       "    </tr>\n",
       "    <tr>\n",
       "      <th>75</th>\n",
       "      <td>76</td>\n",
       "      <td>2</td>\n",
       "      <td>independ</td>\n",
       "      <td>2</td>\n",
       "    </tr>\n",
       "    <tr>\n",
       "      <th>76</th>\n",
       "      <td>77</td>\n",
       "      <td>2</td>\n",
       "      <td>worth seek</td>\n",
       "      <td>3</td>\n",
       "    </tr>\n",
       "  </tbody>\n",
       "</table>\n",
       "</div>"
      ],
      "text/plain": [
       "    PhraseId  SentenceId      Phrase  Sentiment\n",
       "71        72           2  introspect          3\n",
       "72        73           2  introspect          2\n",
       "73        74           2         NaN          2\n",
       "74        75           2   entertain          4\n",
       "75        76           2    independ          2\n",
       "76        77           2  worth seek          3"
      ]
     },
     "execution_count": 2,
     "metadata": {},
     "output_type": "execute_result"
    }
   ],
   "source": [
    "df = df.drop('Unnamed: 0', 1)\n",
    "df[71:77]"
   ]
  },
  {
   "cell_type": "markdown",
   "metadata": {},
   "source": [
    "Radomize rows in df."
   ]
  },
  {
   "cell_type": "code",
   "execution_count": 3,
   "metadata": {
    "collapsed": false
   },
   "outputs": [
    {
     "data": {
      "text/html": [
       "<div>\n",
       "<table border=\"1\" class=\"dataframe\">\n",
       "  <thead>\n",
       "    <tr style=\"text-align: right;\">\n",
       "      <th></th>\n",
       "      <th>PhraseId</th>\n",
       "      <th>SentenceId</th>\n",
       "      <th>Phrase</th>\n",
       "      <th>Sentiment</th>\n",
       "    </tr>\n",
       "  </thead>\n",
       "  <tbody>\n",
       "    <tr>\n",
       "      <th>156055</th>\n",
       "      <td>46207</td>\n",
       "      <td>2249</td>\n",
       "      <td>similar catherin breillat fat girl</td>\n",
       "      <td>2</td>\n",
       "    </tr>\n",
       "    <tr>\n",
       "      <th>156056</th>\n",
       "      <td>81766</td>\n",
       "      <td>4218</td>\n",
       "      <td>hiddenagenda drama shout classic french nuanc</td>\n",
       "      <td>2</td>\n",
       "    </tr>\n",
       "    <tr>\n",
       "      <th>156057</th>\n",
       "      <td>35128</td>\n",
       "      <td>1651</td>\n",
       "      <td>minor shortcom</td>\n",
       "      <td>2</td>\n",
       "    </tr>\n",
       "    <tr>\n",
       "      <th>156058</th>\n",
       "      <td>14970</td>\n",
       "      <td>643</td>\n",
       "      <td>claim express warmth long</td>\n",
       "      <td>3</td>\n",
       "    </tr>\n",
       "    <tr>\n",
       "      <th>156059</th>\n",
       "      <td>91653</td>\n",
       "      <td>4768</td>\n",
       "      <td>overrun onli character robot sentiment</td>\n",
       "      <td>1</td>\n",
       "    </tr>\n",
       "  </tbody>\n",
       "</table>\n",
       "</div>"
      ],
      "text/plain": [
       "        PhraseId  SentenceId                                         Phrase  \\\n",
       "156055     46207        2249             similar catherin breillat fat girl   \n",
       "156056     81766        4218  hiddenagenda drama shout classic french nuanc   \n",
       "156057     35128        1651                                 minor shortcom   \n",
       "156058     14970         643                      claim express warmth long   \n",
       "156059     91653        4768         overrun onli character robot sentiment   \n",
       "\n",
       "        Sentiment  \n",
       "156055          2  \n",
       "156056          2  \n",
       "156057          2  \n",
       "156058          3  \n",
       "156059          1  "
      ]
     },
     "execution_count": 3,
     "metadata": {},
     "output_type": "execute_result"
    }
   ],
   "source": [
    "df=df.sample(frac=1).reset_index(drop=True)\n",
    "df.tail()"
   ]
  },
  {
   "cell_type": "markdown",
   "metadata": {},
   "source": [
    "Devide df into 5 equal number of rows group as df1,df2..,df5 for further cross validation and reindex them all."
   ]
  },
  {
   "cell_type": "code",
   "execution_count": 4,
   "metadata": {
    "collapsed": false
   },
   "outputs": [],
   "source": [
    "tmp=len(df)\n",
    "a=int(tmp/5)\n",
    "b=int(2*tmp/5)\n",
    "c=int(3*tmp/5)\n",
    "d=int(4*tmp/5)"
   ]
  },
  {
   "cell_type": "code",
   "execution_count": 5,
   "metadata": {
    "collapsed": false
   },
   "outputs": [],
   "source": [
    "df1=df[0:a]\n",
    "df2=df[a:b].reset_index(drop=True)\n",
    "df3=df[b:c].reset_index(drop=True)\n",
    "df4=df[c:d].reset_index(drop=True)\n",
    "df5=df[d:].reset_index(drop=True)"
   ]
  },
  {
   "cell_type": "markdown",
   "metadata": {},
   "source": [
    "Check if distribution of partial data sets are confident."
   ]
  },
  {
   "cell_type": "code",
   "execution_count": 2,
   "metadata": {
    "collapsed": false
   },
   "outputs": [
    {
     "data": {
      "text/html": [
       "<div>\n",
       "<table border=\"1\" class=\"dataframe\">\n",
       "  <thead>\n",
       "    <tr style=\"text-align: right;\">\n",
       "      <th></th>\n",
       "      <th>Unnamed: 0</th>\n",
       "      <th>PhraseId</th>\n",
       "      <th>SentenceId</th>\n",
       "      <th>Sentiment</th>\n",
       "    </tr>\n",
       "  </thead>\n",
       "  <tbody>\n",
       "    <tr>\n",
       "      <th>count</th>\n",
       "      <td>31212.000000</td>\n",
       "      <td>31212.000000</td>\n",
       "      <td>31212.000000</td>\n",
       "      <td>31212.000000</td>\n",
       "    </tr>\n",
       "    <tr>\n",
       "      <th>mean</th>\n",
       "      <td>15605.500000</td>\n",
       "      <td>78027.859605</td>\n",
       "      <td>4079.533256</td>\n",
       "      <td>2.062476</td>\n",
       "    </tr>\n",
       "    <tr>\n",
       "      <th>std</th>\n",
       "      <td>9010.272637</td>\n",
       "      <td>45056.413470</td>\n",
       "      <td>2503.416430</td>\n",
       "      <td>0.888882</td>\n",
       "    </tr>\n",
       "    <tr>\n",
       "      <th>min</th>\n",
       "      <td>0.000000</td>\n",
       "      <td>8.000000</td>\n",
       "      <td>1.000000</td>\n",
       "      <td>0.000000</td>\n",
       "    </tr>\n",
       "    <tr>\n",
       "      <th>25%</th>\n",
       "      <td>7802.750000</td>\n",
       "      <td>38974.500000</td>\n",
       "      <td>1859.000000</td>\n",
       "      <td>2.000000</td>\n",
       "    </tr>\n",
       "    <tr>\n",
       "      <th>50%</th>\n",
       "      <td>15605.500000</td>\n",
       "      <td>77851.000000</td>\n",
       "      <td>4003.000000</td>\n",
       "      <td>2.000000</td>\n",
       "    </tr>\n",
       "    <tr>\n",
       "      <th>75%</th>\n",
       "      <td>23408.250000</td>\n",
       "      <td>117268.750000</td>\n",
       "      <td>6257.000000</td>\n",
       "      <td>3.000000</td>\n",
       "    </tr>\n",
       "    <tr>\n",
       "      <th>max</th>\n",
       "      <td>31211.000000</td>\n",
       "      <td>156056.000000</td>\n",
       "      <td>8544.000000</td>\n",
       "      <td>4.000000</td>\n",
       "    </tr>\n",
       "  </tbody>\n",
       "</table>\n",
       "</div>"
      ],
      "text/plain": [
       "         Unnamed: 0       PhraseId    SentenceId     Sentiment\n",
       "count  31212.000000   31212.000000  31212.000000  31212.000000\n",
       "mean   15605.500000   78027.859605   4079.533256      2.062476\n",
       "std     9010.272637   45056.413470   2503.416430      0.888882\n",
       "min        0.000000       8.000000      1.000000      0.000000\n",
       "25%     7802.750000   38974.500000   1859.000000      2.000000\n",
       "50%    15605.500000   77851.000000   4003.000000      2.000000\n",
       "75%    23408.250000  117268.750000   6257.000000      3.000000\n",
       "max    31211.000000  156056.000000   8544.000000      4.000000"
      ]
     },
     "execution_count": 2,
     "metadata": {},
     "output_type": "execute_result"
    }
   ],
   "source": [
    "pd.read_csv(\"data/1df.csv\", sep=\"\\t\").describe()"
   ]
  },
  {
   "cell_type": "code",
   "execution_count": 3,
   "metadata": {
    "collapsed": false
   },
   "outputs": [
    {
     "data": {
      "text/html": [
       "<div>\n",
       "<table border=\"1\" class=\"dataframe\">\n",
       "  <thead>\n",
       "    <tr style=\"text-align: right;\">\n",
       "      <th></th>\n",
       "      <th>Unnamed: 0</th>\n",
       "      <th>PhraseId</th>\n",
       "      <th>SentenceId</th>\n",
       "      <th>Sentiment</th>\n",
       "    </tr>\n",
       "  </thead>\n",
       "  <tbody>\n",
       "    <tr>\n",
       "      <th>count</th>\n",
       "      <td>31212.000000</td>\n",
       "      <td>31212.000000</td>\n",
       "      <td>31212.000000</td>\n",
       "      <td>31212.000000</td>\n",
       "    </tr>\n",
       "    <tr>\n",
       "      <th>mean</th>\n",
       "      <td>15605.500000</td>\n",
       "      <td>78045.313309</td>\n",
       "      <td>4080.173523</td>\n",
       "      <td>2.060329</td>\n",
       "    </tr>\n",
       "    <tr>\n",
       "      <th>std</th>\n",
       "      <td>9010.272637</td>\n",
       "      <td>44978.605809</td>\n",
       "      <td>2499.171710</td>\n",
       "      <td>0.895082</td>\n",
       "    </tr>\n",
       "    <tr>\n",
       "      <th>min</th>\n",
       "      <td>0.000000</td>\n",
       "      <td>10.000000</td>\n",
       "      <td>1.000000</td>\n",
       "      <td>0.000000</td>\n",
       "    </tr>\n",
       "    <tr>\n",
       "      <th>25%</th>\n",
       "      <td>7802.750000</td>\n",
       "      <td>38948.250000</td>\n",
       "      <td>1857.000000</td>\n",
       "      <td>2.000000</td>\n",
       "    </tr>\n",
       "    <tr>\n",
       "      <th>50%</th>\n",
       "      <td>15605.500000</td>\n",
       "      <td>77972.500000</td>\n",
       "      <td>4013.500000</td>\n",
       "      <td>2.000000</td>\n",
       "    </tr>\n",
       "    <tr>\n",
       "      <th>75%</th>\n",
       "      <td>23408.250000</td>\n",
       "      <td>116699.250000</td>\n",
       "      <td>6223.000000</td>\n",
       "      <td>3.000000</td>\n",
       "    </tr>\n",
       "    <tr>\n",
       "      <th>max</th>\n",
       "      <td>31211.000000</td>\n",
       "      <td>156060.000000</td>\n",
       "      <td>8544.000000</td>\n",
       "      <td>4.000000</td>\n",
       "    </tr>\n",
       "  </tbody>\n",
       "</table>\n",
       "</div>"
      ],
      "text/plain": [
       "         Unnamed: 0       PhraseId    SentenceId     Sentiment\n",
       "count  31212.000000   31212.000000  31212.000000  31212.000000\n",
       "mean   15605.500000   78045.313309   4080.173523      2.060329\n",
       "std     9010.272637   44978.605809   2499.171710      0.895082\n",
       "min        0.000000      10.000000      1.000000      0.000000\n",
       "25%     7802.750000   38948.250000   1857.000000      2.000000\n",
       "50%    15605.500000   77972.500000   4013.500000      2.000000\n",
       "75%    23408.250000  116699.250000   6223.000000      3.000000\n",
       "max    31211.000000  156060.000000   8544.000000      4.000000"
      ]
     },
     "execution_count": 3,
     "metadata": {},
     "output_type": "execute_result"
    }
   ],
   "source": [
    "pd.read_csv(\"data/2df.csv\", sep=\"\\t\").describe()"
   ]
  },
  {
   "cell_type": "code",
   "execution_count": 4,
   "metadata": {
    "collapsed": false
   },
   "outputs": [
    {
     "data": {
      "text/html": [
       "<div>\n",
       "<table border=\"1\" class=\"dataframe\">\n",
       "  <thead>\n",
       "    <tr style=\"text-align: right;\">\n",
       "      <th></th>\n",
       "      <th>Unnamed: 0</th>\n",
       "      <th>PhraseId</th>\n",
       "      <th>SentenceId</th>\n",
       "      <th>Sentiment</th>\n",
       "    </tr>\n",
       "  </thead>\n",
       "  <tbody>\n",
       "    <tr>\n",
       "      <th>count</th>\n",
       "      <td>31212.000000</td>\n",
       "      <td>31212.000000</td>\n",
       "      <td>31212.000000</td>\n",
       "      <td>31212.000000</td>\n",
       "    </tr>\n",
       "    <tr>\n",
       "      <th>mean</th>\n",
       "      <td>15605.500000</td>\n",
       "      <td>78297.415161</td>\n",
       "      <td>4094.976003</td>\n",
       "      <td>2.060233</td>\n",
       "    </tr>\n",
       "    <tr>\n",
       "      <th>std</th>\n",
       "      <td>9010.272637</td>\n",
       "      <td>45099.054358</td>\n",
       "      <td>2505.087901</td>\n",
       "      <td>0.890513</td>\n",
       "    </tr>\n",
       "    <tr>\n",
       "      <th>min</th>\n",
       "      <td>0.000000</td>\n",
       "      <td>1.000000</td>\n",
       "      <td>1.000000</td>\n",
       "      <td>0.000000</td>\n",
       "    </tr>\n",
       "    <tr>\n",
       "      <th>25%</th>\n",
       "      <td>7802.750000</td>\n",
       "      <td>39347.750000</td>\n",
       "      <td>1878.000000</td>\n",
       "      <td>2.000000</td>\n",
       "    </tr>\n",
       "    <tr>\n",
       "      <th>50%</th>\n",
       "      <td>15605.500000</td>\n",
       "      <td>78500.500000</td>\n",
       "      <td>4038.000000</td>\n",
       "      <td>2.000000</td>\n",
       "    </tr>\n",
       "    <tr>\n",
       "      <th>75%</th>\n",
       "      <td>23408.250000</td>\n",
       "      <td>117469.500000</td>\n",
       "      <td>6269.000000</td>\n",
       "      <td>3.000000</td>\n",
       "    </tr>\n",
       "    <tr>\n",
       "      <th>max</th>\n",
       "      <td>31211.000000</td>\n",
       "      <td>156051.000000</td>\n",
       "      <td>8544.000000</td>\n",
       "      <td>4.000000</td>\n",
       "    </tr>\n",
       "  </tbody>\n",
       "</table>\n",
       "</div>"
      ],
      "text/plain": [
       "         Unnamed: 0       PhraseId    SentenceId     Sentiment\n",
       "count  31212.000000   31212.000000  31212.000000  31212.000000\n",
       "mean   15605.500000   78297.415161   4094.976003      2.060233\n",
       "std     9010.272637   45099.054358   2505.087901      0.890513\n",
       "min        0.000000       1.000000      1.000000      0.000000\n",
       "25%     7802.750000   39347.750000   1878.000000      2.000000\n",
       "50%    15605.500000   78500.500000   4038.000000      2.000000\n",
       "75%    23408.250000  117469.500000   6269.000000      3.000000\n",
       "max    31211.000000  156051.000000   8544.000000      4.000000"
      ]
     },
     "execution_count": 4,
     "metadata": {},
     "output_type": "execute_result"
    }
   ],
   "source": [
    "pd.read_csv(\"data/3df.csv\", sep=\"\\t\").describe()"
   ]
  },
  {
   "cell_type": "code",
   "execution_count": 5,
   "metadata": {
    "collapsed": false
   },
   "outputs": [
    {
     "data": {
      "text/html": [
       "<div>\n",
       "<table border=\"1\" class=\"dataframe\">\n",
       "  <thead>\n",
       "    <tr style=\"text-align: right;\">\n",
       "      <th></th>\n",
       "      <th>Unnamed: 0</th>\n",
       "      <th>PhraseId</th>\n",
       "      <th>SentenceId</th>\n",
       "      <th>Sentiment</th>\n",
       "    </tr>\n",
       "  </thead>\n",
       "  <tbody>\n",
       "    <tr>\n",
       "      <th>count</th>\n",
       "      <td>31212.000000</td>\n",
       "      <td>31212.000000</td>\n",
       "      <td>31212.000000</td>\n",
       "      <td>31212.000000</td>\n",
       "    </tr>\n",
       "    <tr>\n",
       "      <th>mean</th>\n",
       "      <td>15605.500000</td>\n",
       "      <td>77846.587306</td>\n",
       "      <td>4069.375817</td>\n",
       "      <td>2.064430</td>\n",
       "    </tr>\n",
       "    <tr>\n",
       "      <th>std</th>\n",
       "      <td>9010.272637</td>\n",
       "      <td>45099.592250</td>\n",
       "      <td>2505.916627</td>\n",
       "      <td>0.897371</td>\n",
       "    </tr>\n",
       "    <tr>\n",
       "      <th>min</th>\n",
       "      <td>0.000000</td>\n",
       "      <td>4.000000</td>\n",
       "      <td>1.000000</td>\n",
       "      <td>0.000000</td>\n",
       "    </tr>\n",
       "    <tr>\n",
       "      <th>25%</th>\n",
       "      <td>7802.750000</td>\n",
       "      <td>38669.500000</td>\n",
       "      <td>1843.000000</td>\n",
       "      <td>2.000000</td>\n",
       "    </tr>\n",
       "    <tr>\n",
       "      <th>50%</th>\n",
       "      <td>15605.500000</td>\n",
       "      <td>77620.500000</td>\n",
       "      <td>3992.000000</td>\n",
       "      <td>2.000000</td>\n",
       "    </tr>\n",
       "    <tr>\n",
       "      <th>75%</th>\n",
       "      <td>23408.250000</td>\n",
       "      <td>117162.750000</td>\n",
       "      <td>6251.000000</td>\n",
       "      <td>3.000000</td>\n",
       "    </tr>\n",
       "    <tr>\n",
       "      <th>max</th>\n",
       "      <td>31211.000000</td>\n",
       "      <td>156059.000000</td>\n",
       "      <td>8544.000000</td>\n",
       "      <td>4.000000</td>\n",
       "    </tr>\n",
       "  </tbody>\n",
       "</table>\n",
       "</div>"
      ],
      "text/plain": [
       "         Unnamed: 0       PhraseId    SentenceId     Sentiment\n",
       "count  31212.000000   31212.000000  31212.000000  31212.000000\n",
       "mean   15605.500000   77846.587306   4069.375817      2.064430\n",
       "std     9010.272637   45099.592250   2505.916627      0.897371\n",
       "min        0.000000       4.000000      1.000000      0.000000\n",
       "25%     7802.750000   38669.500000   1843.000000      2.000000\n",
       "50%    15605.500000   77620.500000   3992.000000      2.000000\n",
       "75%    23408.250000  117162.750000   6251.000000      3.000000\n",
       "max    31211.000000  156059.000000   8544.000000      4.000000"
      ]
     },
     "execution_count": 5,
     "metadata": {},
     "output_type": "execute_result"
    }
   ],
   "source": [
    "pd.read_csv(\"data/4df.csv\", sep=\"\\t\").describe()"
   ]
  },
  {
   "cell_type": "code",
   "execution_count": 6,
   "metadata": {
    "collapsed": false
   },
   "outputs": [
    {
     "data": {
      "text/html": [
       "<div>\n",
       "<table border=\"1\" class=\"dataframe\">\n",
       "  <thead>\n",
       "    <tr style=\"text-align: right;\">\n",
       "      <th></th>\n",
       "      <th>Unnamed: 0</th>\n",
       "      <th>PhraseId</th>\n",
       "      <th>SentenceId</th>\n",
       "      <th>Sentiment</th>\n",
       "    </tr>\n",
       "  </thead>\n",
       "  <tbody>\n",
       "    <tr>\n",
       "      <th>count</th>\n",
       "      <td>31212.000000</td>\n",
       "      <td>31212.000000</td>\n",
       "      <td>31212.000000</td>\n",
       "      <td>31212.000000</td>\n",
       "    </tr>\n",
       "    <tr>\n",
       "      <th>mean</th>\n",
       "      <td>15605.500000</td>\n",
       "      <td>77935.324619</td>\n",
       "      <td>4074.605120</td>\n",
       "      <td>2.070422</td>\n",
       "    </tr>\n",
       "    <tr>\n",
       "      <th>std</th>\n",
       "      <td>9010.272637</td>\n",
       "      <td>45021.761168</td>\n",
       "      <td>2500.309596</td>\n",
       "      <td>0.897296</td>\n",
       "    </tr>\n",
       "    <tr>\n",
       "      <th>min</th>\n",
       "      <td>0.000000</td>\n",
       "      <td>3.000000</td>\n",
       "      <td>1.000000</td>\n",
       "      <td>0.000000</td>\n",
       "    </tr>\n",
       "    <tr>\n",
       "      <th>25%</th>\n",
       "      <td>7802.750000</td>\n",
       "      <td>39184.000000</td>\n",
       "      <td>1869.000000</td>\n",
       "      <td>2.000000</td>\n",
       "    </tr>\n",
       "    <tr>\n",
       "      <th>50%</th>\n",
       "      <td>15605.500000</td>\n",
       "      <td>78142.500000</td>\n",
       "      <td>4021.000000</td>\n",
       "      <td>2.000000</td>\n",
       "    </tr>\n",
       "    <tr>\n",
       "      <th>75%</th>\n",
       "      <td>23408.250000</td>\n",
       "      <td>116747.500000</td>\n",
       "      <td>6226.000000</td>\n",
       "      <td>3.000000</td>\n",
       "    </tr>\n",
       "    <tr>\n",
       "      <th>max</th>\n",
       "      <td>31211.000000</td>\n",
       "      <td>156058.000000</td>\n",
       "      <td>8544.000000</td>\n",
       "      <td>4.000000</td>\n",
       "    </tr>\n",
       "  </tbody>\n",
       "</table>\n",
       "</div>"
      ],
      "text/plain": [
       "         Unnamed: 0       PhraseId    SentenceId     Sentiment\n",
       "count  31212.000000   31212.000000  31212.000000  31212.000000\n",
       "mean   15605.500000   77935.324619   4074.605120      2.070422\n",
       "std     9010.272637   45021.761168   2500.309596      0.897296\n",
       "min        0.000000       3.000000      1.000000      0.000000\n",
       "25%     7802.750000   39184.000000   1869.000000      2.000000\n",
       "50%    15605.500000   78142.500000   4021.000000      2.000000\n",
       "75%    23408.250000  116747.500000   6226.000000      3.000000\n",
       "max    31211.000000  156058.000000   8544.000000      4.000000"
      ]
     },
     "execution_count": 6,
     "metadata": {},
     "output_type": "execute_result"
    }
   ],
   "source": [
    "pd.read_csv(\"data/5df.csv\", sep=\"\\t\").describe()"
   ]
  },
  {
   "cell_type": "markdown",
   "metadata": {},
   "source": [
    "Save them under folder data seperately. They will be used as %80 train and %20 test dataframe creation i.e. concetenation of (df1..df4) as train and df5 as test. "
   ]
  },
  {
   "cell_type": "code",
   "execution_count": 6,
   "metadata": {
    "collapsed": false
   },
   "outputs": [],
   "source": [
    "df1.to_csv(\"data/1df.csv\", sep='\\t')\n",
    "df2.to_csv(\"data/2df.csv\", sep='\\t')\n",
    "df3.to_csv(\"data/3df.csv\", sep='\\t')\n",
    "df4.to_csv(\"data/4df.csv\", sep='\\t')\n",
    "df5.to_csv(\"data/5df.csv\", sep='\\t')"
   ]
  },
  {
   "cell_type": "code",
   "execution_count": 7,
   "metadata": {
    "collapsed": false
   },
   "outputs": [
    {
     "name": "stdout",
     "output_type": "stream",
     "text": [
      "done succesfully\n"
     ]
    }
   ],
   "source": [
    "print(\"done succesfully\")"
   ]
  }
 ],
 "metadata": {
  "kernelspec": {
   "display_name": "Python 3",
   "language": "python",
   "name": "python3"
  },
  "language_info": {
   "codemirror_mode": {
    "name": "ipython",
    "version": 3
   },
   "file_extension": ".py",
   "mimetype": "text/x-python",
   "name": "python",
   "nbconvert_exporter": "python",
   "pygments_lexer": "ipython3",
   "version": "3.6.0"
  }
 },
 "nbformat": 4,
 "nbformat_minor": 2
}
